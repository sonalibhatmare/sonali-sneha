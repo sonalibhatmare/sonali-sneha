{
  "cells": [
    {
      "cell_type": "code",
      "execution_count": null,
      "metadata": {
        "colab": {
          "base_uri": "https://localhost:8080/"
        },
        "id": "7ySv7rztr5I2",
        "outputId": "bf01901a-9bd3-40c4-c4ce-aec311bb57d1"
      },
      "outputs": [
        {
          "name": "stdout",
          "output_type": "stream",
          "text": [
            "30\n",
            "enter x value:10\n",
            "enter y value:20\n",
            "30\n",
            "addition of 10 and 20 value is = 30\n"
          ]
        }
      ],
      "source": [
        "a = 10\n",
        "b = 20\n",
        "print(a+b)\n",
        "\n",
        "# Run time program\n",
        "\n",
        "x = int (input(\"enter x value:\"))\n",
        "y = int (input(\"enter y value:\"))\n",
        "print(x+y)\n",
        "\n",
        "print(\"addition of\" ,x, \"and\" ,y, \"value is =\", x+y)"
      ]
    },
    {
      "cell_type": "code",
      "execution_count": null,
      "metadata": {
        "colab": {
          "base_uri": "https://localhost:8080/"
        },
        "id": "2LFHl217yrDm",
        "outputId": "f06ff4d9-2941-498c-9d20-c467fdd98181"
      },
      "outputs": [
        {
          "name": "stdout",
          "output_type": "stream",
          "text": [
            "30\n"
          ]
        }
      ],
      "source": [
        "a= 10\n",
        "b= 20\n",
        "print(a+b)"
      ]
    },
    {
      "cell_type": "code",
      "execution_count": null,
      "metadata": {
        "colab": {
          "base_uri": "https://localhost:8080/"
        },
        "id": "WAiijUin5f7n",
        "outputId": "246b141b-c4d4-49be-8b1c-f2c5bbda0890"
      },
      "outputs": [
        {
          "name": "stdout",
          "output_type": "stream",
          "text": [
            "Addition of 100 and 50 value is = 150\n",
            "division of 100 and 50 value is = 2.0\n"
          ]
        }
      ],
      "source": [
        "x = 100\n",
        "y = 50\n",
        "print(f'Addition of {x} and {y} value is = {x+y}')\n",
        "print(f'division of {x} and {y} value is = {x/y}')"
      ]
    },
    {
      "cell_type": "code",
      "execution_count": null,
      "metadata": {
        "colab": {
          "base_uri": "https://localhost:8080/"
        },
        "id": "_6JKfBug6ZiO",
        "outputId": "28723cfb-7c14-4763-c1ab-0531a05f820d"
      },
      "outputs": [
        {
          "name": "stdout",
          "output_type": "stream",
          "text": [
            "Hi, Good Morning my name is sneha , i have completed MCA in the year of 2022, currently iam working in KLE BK BCA college chikkodi 591213\n"
          ]
        }
      ],
      "source": [
        "name = \"sneha\"\n",
        "course = \"MCA\"\n",
        "year = 2022\n",
        "department = \"BCA\"\n",
        "pincode = 591213\n",
        "print(f\"Hi, Good Morning my name is {name} , i have completed {course} in the year of {year}, currently iam working in KLE BK {department} college chikkodi {pincode}\")\n"
      ]
    },
    {
      "cell_type": "code",
      "execution_count": null,
      "metadata": {
        "colab": {
          "base_uri": "https://localhost:8080/"
        },
        "id": "l9bha-Oq8etG",
        "outputId": "b7d96653-89f9-42d5-9c5b-0e9f171fcd07"
      },
      "outputs": [
        {
          "name": "stdout",
          "output_type": "stream",
          "text": [
            "addition of 50 and 20 value is = 70\n",
            "substraction of 50 and 20 value is = 30\n",
            "multiplication of 50 and 20 value is = 1000\n",
            "division of 50 and 20 value is = 2.5\n"
          ]
        }
      ],
      "source": [
        "x = 50\n",
        "y = 20\n",
        "print(f'addition of {x} and {y} value is = {x+y}')\n",
        "print (f'substraction of {x} and {y} value is = {x-y}')\n",
        "print (f'multiplication of {x} and {y} value is = {x*y}')\n",
        "print (f'division of {x} and {y} value is = {x/y}')"
      ]
    },
    {
      "cell_type": "code",
      "execution_count": null,
      "metadata": {
        "colab": {
          "base_uri": "https://localhost:8080/"
        },
        "id": "k76oANjCCYqb",
        "outputId": "7662c365-767c-494e-f87f-8dd3f51339bf"
      },
      "outputs": [
        {
          "name": "stdout",
          "output_type": "stream",
          "text": [
            "enter num1 value :10\n",
            "enter num2 value :5\n",
            "addition of two number is : 15\n",
            "substraction of two number is : 5\n",
            "multiplication of two number is : 50\n",
            "division of two number is : 2.0\n",
            "floor division of two number is : 2\n",
            "modulus of two number is : 0\n",
            "exponent value is : 100000000000000000000\n"
          ]
        }
      ],
      "source": [
        "num1 = int(input(\"enter num1 value :\"))\n",
        "num2 = int (input(\"enter num2 value :\"))\n",
        "print(\"addition of two number is :\",num1 + num2)\n",
        "print(\"substraction of two number is :\",num1 - num2)\n",
        "print(\"multiplication of two number is :\",num1 * num2)\n",
        "print(\"division of two number is :\",num1 / num2)\n",
        "print(\"floor division of two number is :\",num1 // num2)\n",
        "print(\"modulus of two number is :\",num1 % num2)\n",
        "\n",
        "print(\"exponent value is :\",x**y)"
      ]
    },
    {
      "cell_type": "code",
      "execution_count": null,
      "metadata": {
        "colab": {
          "base_uri": "https://localhost:8080/"
        },
        "id": "kK7o8kxSINY2",
        "outputId": "ce586ae7-0ee6-4276-c9b5-90082fbe944c"
      },
      "outputs": [
        {
          "name": "stdout",
          "output_type": "stream",
          "text": [
            "False\n",
            "True\n",
            "True\n",
            "True\n",
            "False\n",
            "True\n",
            "False\n"
          ]
        }
      ],
      "source": [
        "number1 = 35\n",
        "number2 = 40\n",
        "print(number1 > number2)\n",
        "print(number1 < number2)\n",
        "print(number1 == 35)\n",
        "print(number1 <= number2)\n",
        "print(number1 >= 40)\n",
        "print(10 != 20)\n",
        "print(number1 == number2)\n"
      ]
    },
    {
      "cell_type": "code",
      "execution_count": null,
      "metadata": {
        "colab": {
          "base_uri": "https://localhost:8080/"
        },
        "id": "W1J-4Cb4Miq2",
        "outputId": "14510d61-ba4c-4a7e-ab1e-182c4bed1204"
      },
      "outputs": [
        {
          "name": "stdout",
          "output_type": "stream",
          "text": [
            "False\n",
            "False\n",
            "True\n",
            "False\n",
            "True\n",
            "False\n",
            "False\n",
            "True\n",
            "False\n"
          ]
        }
      ],
      "source": [
        "\n",
        "a = 20\n",
        "b = 35\n",
        "c = 13\n",
        "d = 10\n",
        "\n",
        "print(a == b and c < d)\n",
        "print( 13 != c and d < c)\n",
        "print(b > a and d <c)\n",
        "print(20 != a and c==d)\n",
        "\n",
        "print(a < b or d == c)\n",
        "print((not(a < b)) and 100 <200)\n",
        "print(not(d == 10))\n",
        "print(35 != d or (not(20 == a)))\n",
        "print(not(c <= b and (not(a <= c))))\n",
        "\n",
        "\n"
      ]
    },
    {
      "cell_type": "code",
      "execution_count": null,
      "metadata": {
        "colab": {
          "base_uri": "https://localhost:8080/"
        },
        "id": "C-LH_-oiP21p",
        "outputId": "44c720c5-9446-41c3-8c56-c1a0a869c28d"
      },
      "outputs": [
        {
          "name": "stdout",
          "output_type": "stream",
          "text": [
            "10\n",
            "8\n",
            "40\n",
            "13\n",
            "169\n",
            "1\n",
            "10\n",
            "3.3333333333333335\n"
          ]
        }
      ],
      "source": [
        "x = 10\n",
        "print(x)\n",
        "\n",
        "x -= 2\n",
        "print (x)\n",
        "\n",
        "x *= 5\n",
        "print(x)\n",
        "\n",
        "x //= 3\n",
        "print(x)\n",
        "\n",
        "x **= 2\n",
        "print(x)\n",
        "\n",
        "x %= 4\n",
        "print(x)\n",
        "\n",
        "x += 9\n",
        "print(x)\n",
        "\n",
        "x /= 3\n",
        "print(x)"
      ]
    },
    {
      "cell_type": "code",
      "execution_count": null,
      "metadata": {
        "colab": {
          "base_uri": "https://localhost:8080/"
        },
        "id": "OcUPCWV1ua_7",
        "outputId": "08c68021-fc06-4ad5-d479-b4f66915373d"
      },
      "outputs": [
        {
          "name": "stdout",
          "output_type": "stream",
          "text": [
            "10 is a greater than 9\n"
          ]
        }
      ],
      "source": [
        "num = 9\n",
        "if num < 10 :\n",
        "  print(\"10 is a greater than 9\")"
      ]
    },
    {
      "cell_type": "code",
      "execution_count": null,
      "metadata": {
        "colab": {
          "base_uri": "https://localhost:8080/"
        },
        "id": "FXiXDxhwu12h",
        "outputId": "07786de7-b396-46c3-dcf2-2d5d6d03223a"
      },
      "outputs": [
        {
          "name": "stdout",
          "output_type": "stream",
          "text": [
            "Login successfully\n"
          ]
        }
      ],
      "source": [
        "User_id = \"20MCA103\"\n",
        "Password = 1234\n",
        "if User_id == \"20MCA103\" and Password == 1234:\n",
        "   print(\"Login successfully\")"
      ]
    },
    {
      "cell_type": "code",
      "execution_count": null,
      "metadata": {
        "id": "9baUra9QvxIZ"
      },
      "outputs": [],
      "source": [
        "ex = 59\n",
        "if ex == 58 :\n",
        "  print(\"Are you understand\")"
      ]
    },
    {
      "cell_type": "code",
      "execution_count": null,
      "metadata": {
        "id": "ZEdL8JbgwX8C"
      },
      "outputs": [],
      "source": [
        "Name = \"sonali\"\n",
        "if Name <= \"BKC\" :\n",
        "  print(\"my name is sonali\")"
      ]
    },
    {
      "cell_type": "code",
      "execution_count": null,
      "metadata": {
        "colab": {
          "base_uri": "https://localhost:8080/"
        },
        "id": "PoqN_v2ly1EU",
        "outputId": "6c57020c-fc96-41c8-eee7-6594bda28a76"
      },
      "outputs": [
        {
          "name": "stdout",
          "output_type": "stream",
          "text": [
            "enter a number value :5\n",
            "Positive number\n"
          ]
        }
      ],
      "source": [
        "Number = int(input(\"enter a number value :\"))\n",
        "if num > 0 :\n",
        "  print(\"Positive number\")\n",
        "else :\n",
        "  print(\"negative number\")"
      ]
    },
    {
      "cell_type": "code",
      "execution_count": null,
      "metadata": {
        "colab": {
          "base_uri": "https://localhost:8080/"
        },
        "id": "7BA2gHPx0FH9",
        "outputId": "34f40e97-8d4f-4163-c982-f5021ce41369"
      },
      "outputs": [
        {
          "name": "stdout",
          "output_type": "stream",
          "text": [
            "enter a number value : 5\n",
            "odd number\n"
          ]
        }
      ],
      "source": [
        "num = int(input(\"enter a number value : \"))\n",
        "if num % 2== 0 :\n",
        "  print(\"even number\")\n",
        "else :\n",
        "  print(\"odd number\")"
      ]
    },
    {
      "cell_type": "code",
      "execution_count": null,
      "metadata": {
        "colab": {
          "base_uri": "https://localhost:8080/"
        },
        "id": "QiJVJ1TW3NXK",
        "outputId": "63e06c69-f6a2-4bf1-fe0c-3f174a22259c"
      },
      "outputs": [
        {
          "name": "stdout",
          "output_type": "stream",
          "text": [
            "enter a year value : 10\n",
            "not leaf year\n"
          ]
        }
      ],
      "source": [
        "year = int(input(\"enter a year value : \"))\n",
        "if year % 4 == 0 :\n",
        "  print(\"leap year\")\n",
        "else :\n",
        "  print(\"not leaf year\")"
      ]
    },
    {
      "cell_type": "code",
      "execution_count": null,
      "metadata": {
        "colab": {
          "base_uri": "https://localhost:8080/"
        },
        "id": "CEKA5gZF5A2r",
        "outputId": "a076b908-12d7-43b4-d1b9-2b5a0de2c368"
      },
      "outputs": [
        {
          "name": "stdout",
          "output_type": "stream",
          "text": [
            "enter a year value : 6\n",
            "they have to wait\n"
          ]
        }
      ],
      "source": [
        "Age = int(input(\"enter a year value : \"))\n",
        "if Age >= 18 :\n",
        "  print(\"they are eligible for voting\")\n",
        "else :\n",
        "  print(\"they have to wait\")"
      ]
    },
    {
      "cell_type": "code",
      "execution_count": null,
      "metadata": {
        "colab": {
          "base_uri": "https://localhost:8080/"
        },
        "id": "TRhXGX_7ARoF",
        "outputId": "2fdc303b-e86d-4a11-da62-ad9aaf7ff8e4"
      },
      "outputs": [
        {
          "name": "stdout",
          "output_type": "stream",
          "text": [
            " enter a marks value : 7\n",
            "Fail better luck next chance\n"
          ]
        }
      ],
      "source": [
        "marks = int(input(\" enter a marks value : \"))\n",
        "if marks >= 85 :\n",
        "  print(\"Distinction\")\n",
        "elif marks >= 70 :\n",
        "  print(\"First class\")\n",
        "elif marks >= 55 :\n",
        "  print(\"second class\")\n",
        "elif marks >= 35 :\n",
        "  print(\"Just pass\")\n",
        "else :\n",
        "  print(\"Fail better luck next chance\")"
      ]
    },
    {
      "cell_type": "code",
      "execution_count": null,
      "metadata": {
        "colab": {
          "base_uri": "https://localhost:8080/"
        },
        "id": "qWvy7PD9Hjgj",
        "outputId": "b595bd8d-890e-4c89-f126-18a5332a240c"
      },
      "outputs": [
        {
          "name": "stdout",
          "output_type": "stream",
          "text": [
            "enter prize medal :6\n",
            "Better luck next chance\n"
          ]
        }
      ],
      "source": [
        "prize = input(\"enter prize medal :\")\n",
        "if prize == \"Gold\":\n",
        "  print(\"First prize\")\n",
        "elif prize == \"Silver\" :\n",
        "  print(\"Second prize\")\n",
        "elif prize == \"Bronze\" :\n",
        "  print(\"Third prize\")\n",
        "elif prize == \"certificate\" :\n",
        "   print(\"Samadanakar bahumana\")\n",
        "else :\n",
        "  print(\"Better luck next chance\")"
      ]
    },
    {
      "cell_type": "code",
      "execution_count": null,
      "metadata": {
        "colab": {
          "base_uri": "https://localhost:8080/"
        },
        "id": "q0-BF86XIWTR",
        "outputId": "5482bf8a-8077-4a98-e868-4b1937e74167"
      },
      "outputs": [
        {
          "name": "stdout",
          "output_type": "stream",
          "text": [
            "b is a largest number\n"
          ]
        }
      ],
      "source": [
        "a,b,c = 25,35,15\n",
        "if a > b :\n",
        "  if a > c :\n",
        "    print(\"a is a largest number\")\n",
        "  else :\n",
        "   print(\"c is a largest number\")\n",
        "else :\n",
        "  if b > c :\n",
        "    print(\"b is a largest number\")\n",
        "  else :\n",
        "    print(\"c is a largest number\")"
      ]
    },
    {
      "cell_type": "code",
      "execution_count": null,
      "metadata": {
        "colab": {
          "base_uri": "https://localhost:8080/"
        },
        "id": "IgbjGVJS5NQU",
        "outputId": "8768e1ad-d3e0-4909-852b-fd930b0f0738"
      },
      "outputs": [
        {
          "name": "stdout",
          "output_type": "stream",
          "text": [
            "c is a smallest number\n"
          ]
        }
      ],
      "source": [
        "a,b,c = 25,35,15\n",
        "if a < b :\n",
        "  if a < c :\n",
        "    print(\"a is a smallest number\")\n",
        "  else :\n",
        "   print(\"c is a smallest number\")\n",
        "else :\n",
        "  if b < c :\n",
        "    print(\"b is a smallest number\")\n",
        "  else :\n",
        "    print(\"c is a smallest number\")"
      ]
    },
    {
      "cell_type": "code",
      "execution_count": null,
      "metadata": {
        "colab": {
          "base_uri": "https://localhost:8080/"
        },
        "id": "XqwSSx6I5pr9",
        "outputId": "0981e223-0145-4254-da12-69fe1dd69c8d"
      },
      "outputs": [
        {
          "name": "stdout",
          "output_type": "stream",
          "text": [
            "negative number\n"
          ]
        }
      ],
      "source": [
        "num = -5\n",
        "if num > 0 :\n",
        "  if num == 0 :\n",
        "      print(\"Zero value\")\n",
        "  else :\n",
        "        print(\"Positive number\")\n",
        "else :\n",
        "        print(\"negative number\")"
      ]
    },
    {
      "cell_type": "code",
      "execution_count": null,
      "metadata": {
        "colab": {
          "base_uri": "https://localhost:8080/"
        },
        "id": "PLzf5SP2LRW5",
        "outputId": "fdfd5d64-55cd-41b9-d500-def33201cf0c"
      },
      "outputs": [
        {
          "name": "stdout",
          "output_type": "stream",
          "text": [
            "1 2 3 4 5 6 7 8 9 10 11 12 13 14 15 16 17 18 19 20 21 22 23 24 25 26 27 28 29 30 31 32 33 34 35 36 37 38 39 40 41 42 43 44 45 46 47 48 49 50 51 52 53 54 55 56 57 58 59 60 "
          ]
        }
      ],
      "source": [
        "i = 1\n",
        "while i <= 60 :\n",
        "    print(i,end= \" \")\n",
        "    i +=1"
      ]
    },
    {
      "cell_type": "code",
      "execution_count": null,
      "metadata": {
        "colab": {
          "base_uri": "https://localhost:8080/"
        },
        "id": "-C29SGD7a400",
        "outputId": "fe2f8296-486d-4b86-abbb-9d8c33c6e5d6"
      },
      "outputs": [
        {
          "name": "stdout",
          "output_type": "stream",
          "text": [
            "enter a day number4\n",
            "thursday\n"
          ]
        }
      ],
      "source": [
        "day = int(input(\"enter a day number\"))\n",
        "match day :\n",
        "    case 1 : print(\"monday\")\n",
        "    case 2 : print(\"tuesday\")\n",
        "    case 3 : print(\"wednesday\")\n",
        "    case 4 : print(\"thursday\")\n",
        "    case 5 : print(\"friday\")\n",
        "    case 6 : print(\"saturday\")\n",
        "    case 7 : print(\"sunday\")\n",
        "    case 8 :print(\"holiday\")\n"
      ]
    },
    {
      "cell_type": "code",
      "execution_count": null,
      "metadata": {
        "colab": {
          "base_uri": "https://localhost:8080/"
        },
        "id": "YoSZiAOCcD7M",
        "outputId": "ec7d61ff-785e-4ba6-cf5d-053e9e91e1c9"
      },
      "outputs": [
        {
          "name": "stdout",
          "output_type": "stream",
          "text": [
            "enter a month number6\n",
            "june\n"
          ]
        }
      ],
      "source": [
        "month = int(input(\"enter a month number\"))\n",
        "match month :\n",
        "    case 1 : print(\"january\")\n",
        "    case 2 : print(\"february\")\n",
        "    case 3 : print(\"march\")\n",
        "    case 4 : print(\"april\")\n",
        "    case 5 : print(\"may\")\n",
        "    case 6 : print(\"june\")\n",
        "    case 7 : print(\"july\")\n",
        "    case 8 :print(\"august\")\n",
        "    case 9 : print(\"september\")\n",
        "    case 10 : print(\"october\")\n",
        "    case 11 : print(\"november\")\n",
        "    case 12 :print(\"december\")\n",
        "\n",
        "\n"
      ]
    },
    {
      "cell_type": "code",
      "execution_count": null,
      "metadata": {
        "colab": {
          "base_uri": "https://localhost:8080/"
        },
        "id": "GLXpjFu6cGEE",
        "outputId": "477d9d50-9762-4696-9cf8-14ef13980cb8"
      },
      "outputs": [
        {
          "name": "stdout",
          "output_type": "stream",
          "text": [
            "reverse number : 54321\n"
          ]
        }
      ],
      "source": [
        "num = 12345\n",
        "rem = 0\n",
        "rev = 0\n",
        "temp = num\n",
        "while num > 0 :\n",
        "    rem = num % 10\n",
        "    rev = rev * 10 + rem\n",
        "    num = num // 10\n",
        "print(\"reverse number :\", rev)"
      ]
    },
    {
      "cell_type": "code",
      "execution_count": null,
      "metadata": {
        "colab": {
          "base_uri": "https://localhost:8080/"
        },
        "id": "jO1Iqxy1ct-d",
        "outputId": "06ca9b29-3ba5-4f7d-c398-febadc1d164c"
      },
      "outputs": [
        {
          "name": "stdout",
          "output_type": "stream",
          "text": [
            "polindrom number\n"
          ]
        }
      ],
      "source": [
        "num = 12321\n",
        "rem = 0\n",
        "rev = 0\n",
        "temp = num\n",
        "while num > 0 :\n",
        "    rem = num % 10\n",
        "    rev = rev * 10 + rem\n",
        "    num = num // 10\n",
        "if temp == rev :\n",
        "    print(\"polindrom number\")\n",
        "else :\n",
        "    print(\"not polindrom number\")"
      ]
    },
    {
      "cell_type": "code",
      "execution_count": null,
      "metadata": {
        "colab": {
          "base_uri": "https://localhost:8080/"
        },
        "id": "0t32TjIqdYd9",
        "outputId": "4773ed05-5836-42e1-e737-eb3806703930"
      },
      "outputs": [
        {
          "name": "stdout",
          "output_type": "stream",
          "text": [
            "2 4 6 8 10 12 14 16 18 20 22 24 26 28 30 32 34 36 38 40 42 44 46 48 50 52 54 56 58 60 62 64 66 68 70 72 74 76 78 80 82 84 86 88 90 92 94 96 98 100 "
          ]
        }
      ],
      "source": [
        "i = 2\n",
        "while i <= 100 :\n",
        "    print(i, end = \" \")\n",
        "    i+=2"
      ]
    },
    {
      "cell_type": "code",
      "execution_count": null,
      "metadata": {
        "colab": {
          "base_uri": "https://localhost:8080/"
        },
        "id": "-YVLJueXeFAd",
        "outputId": "bbfa3c54-44b3-45b0-f569-ac0a9d0dc839"
      },
      "outputs": [
        {
          "name": "stdout",
          "output_type": "stream",
          "text": [
            "1 3 5 7 9 11 13 15 17 19 21 23 25 27 29 31 33 35 37 39 41 43 45 47 49 51 53 55 57 59 61 63 65 67 69 71 73 75 77 79 81 83 85 87 89 91 93 95 97 99 "
          ]
        }
      ],
      "source": [
        "i = 1\n",
        "while i <= 100 :\n",
        "    print(i, end = \" \")\n",
        "    i+=2"
      ]
    },
    {
      "cell_type": "code",
      "execution_count": null,
      "metadata": {
        "colab": {
          "base_uri": "https://localhost:8080/"
        },
        "id": "1Va0PxhmepH1",
        "outputId": "ee764eec-4522-4c18-ce72-d746d96a7883"
      },
      "outputs": [
        {
          "name": "stdout",
          "output_type": "stream",
          "text": [
            "0 1 1 2 3 5 8 13 21 34 55 "
          ]
        }
      ],
      "source": [
        "num, a, b, = 10, 0, 1\n",
        "i = 0\n",
        "while i <= num :\n",
        "    print(a, end = \" \")\n",
        "    a, b = b, a+b\n",
        "    i+=1"
      ]
    },
    {
      "cell_type": "code",
      "execution_count": null,
      "metadata": {
        "colab": {
          "base_uri": "https://localhost:8080/"
        },
        "id": "2wWbX4jZfXhF",
        "outputId": "75cbf77c-b413-48ba-f02b-258ce503bfa8"
      },
      "outputs": [
        {
          "name": "stdout",
          "output_type": "stream",
          "text": [
            "enter a number value : 5\n",
            "prime number\n"
          ]
        }
      ],
      "source": [
        "num = int(input(\"enter a number value : \"))\n",
        "count = 0\n",
        "i = 1\n",
        "while i <= num :\n",
        "    if num % i == 0 :\n",
        "        count+=1\n",
        "    i+=1\n",
        "if count == 2 :\n",
        "    print(\"prime number\")\n",
        "else :\n",
        "    print(\"not prime number\")\n"
      ]
    },
    {
      "cell_type": "code",
      "execution_count": null,
      "metadata": {
        "colab": {
          "base_uri": "https://localhost:8080/"
        },
        "id": "ov7syNluh-Qb",
        "outputId": "89c571ce-7b1a-4c56-8a8c-cf9aa8711e03"
      },
      "outputs": [
        {
          "name": "stdout",
          "output_type": "stream",
          "text": [
            "10 20 40 80 160 320 640 1280 "
          ]
        }
      ],
      "source": [
        "i = 10\n",
        "while i <= 1280 :\n",
        "    print(i, end= \" \")\n",
        "    i*=2"
      ]
    },
    {
      "cell_type": "code",
      "execution_count": null,
      "metadata": {
        "colab": {
          "base_uri": "https://localhost:8080/"
        },
        "id": "gzMVWXxE3p9o",
        "outputId": "f646dd48-4e83-4cec-8398-6a468d2f9d83"
      },
      "outputs": [
        {
          "name": "stdout",
          "output_type": "stream",
          "text": [
            "<class 'list'>\n",
            "blue\n",
            "red\n",
            "pink\n",
            "black\n"
          ]
        }
      ],
      "source": [
        "colours = ['blue', 'red', 'pink', 'black']\n",
        "print(type(colours))\n",
        "\n",
        "for i in colours :\n",
        "     print(i)\n"
      ]
    },
    {
      "cell_type": "code",
      "execution_count": null,
      "metadata": {
        "colab": {
          "base_uri": "https://localhost:8080/"
        },
        "id": "fpcKe_UN4wNv",
        "outputId": "11e5ded4-1c3d-4963-bc18-6d69f2e8fdc8"
      },
      "outputs": [
        {
          "name": "stdout",
          "output_type": "stream",
          "text": [
            "IDOKIHC ni EGELLOC ACB KB ELK\n"
          ]
        }
      ],
      "source": [
        "name = \"KLE BK BCA COLLEGE in CHIKODI\"\n",
        "rev = \"\"\n",
        "for i in name :\n",
        "    rev = i + rev\n",
        "print(rev)\n",
        "\n"
      ]
    },
    {
      "cell_type": "code",
      "execution_count": null,
      "metadata": {
        "colab": {
          "base_uri": "https://localhost:8080/"
        },
        "id": "eTqtEBVICMcs",
        "outputId": "8665b124-d4c8-4aca-aaa1-7918b6ec04fe"
      },
      "outputs": [
        {
          "name": "stdout",
          "output_type": "stream",
          "text": [
            "0\n",
            "1\n",
            "2\n",
            "3\n",
            "4\n",
            "5\n",
            "6\n",
            "7\n",
            "8\n",
            "9\n"
          ]
        }
      ],
      "source": [
        "for i in range(10) :\n",
        "     print(i)"
      ]
    },
    {
      "cell_type": "code",
      "execution_count": null,
      "metadata": {
        "colab": {
          "base_uri": "https://localhost:8080/"
        },
        "id": "Ech6c44-EQrl",
        "outputId": "20d659e9-e4d2-408c-d397-8d0184f5e8b7"
      },
      "outputs": [
        {
          "name": "stdout",
          "output_type": "stream",
          "text": [
            "1\n",
            "2\n",
            "3\n",
            "4\n",
            "5\n",
            "6\n",
            "7\n",
            "8\n",
            "9\n",
            "10\n"
          ]
        }
      ],
      "source": [
        "for i in range(1,10+1) :\n",
        "     print(i)"
      ]
    },
    {
      "cell_type": "code",
      "execution_count": null,
      "metadata": {
        "colab": {
          "base_uri": "https://localhost:8080/"
        },
        "id": "A5UnGIjcE5s_",
        "outputId": "fae43651-dfe5-4730-f073-f5dcf1461185"
      },
      "outputs": [
        {
          "name": "stdout",
          "output_type": "stream",
          "text": [
            "Sum of N Natural  numbers is  55\n"
          ]
        }
      ],
      "source": [
        "Sum = 0\n",
        "for i in range(1,11) :\n",
        "    Sum+=i\n",
        "print(\"Sum of N Natural  numbers is \",Sum)"
      ]
    },
    {
      "cell_type": "code",
      "execution_count": null,
      "metadata": {
        "colab": {
          "base_uri": "https://localhost:8080/"
        },
        "id": "gNgAa7ToIGCz",
        "outputId": "159eb24a-3d38-42dd-bb5d-dbd427a9d94c"
      },
      "outputs": [
        {
          "name": "stdout",
          "output_type": "stream",
          "text": [
            "4 * 1 = 4\n",
            "4 * 2 = 8\n",
            "4 * 3 = 12\n",
            "4 * 4 = 16\n",
            "4 * 5 = 20\n",
            "4 * 6 = 24\n",
            "4 * 7 = 28\n",
            "4 * 8 = 32\n",
            "4 * 9 = 36\n",
            "4 * 10 = 40\n"
          ]
        }
      ],
      "source": [
        "num = 4\n",
        "for i in range(1,11):\n",
        "     print(\"4 *\",i,\"=\", num*i)"
      ]
    },
    {
      "cell_type": "code",
      "execution_count": null,
      "metadata": {
        "colab": {
          "base_uri": "https://localhost:8080/"
        },
        "id": "ki5s4OAaJr8j",
        "outputId": "92fc72bb-ab9a-4362-ed83-5460ccb3d5c1"
      },
      "outputs": [
        {
          "name": "stdout",
          "output_type": "stream",
          "text": [
            "2 4 6 8 10 12 14 16 18 20 22 24 26 28 30 32 34 36 38 40 42 44 46 48 50 52 54 56 58 60 62 64 66 68 70 72 74 76 78 80 82 84 86 88 90 92 94 96 98 100 "
          ]
        }
      ],
      "source": [
        "for i in range(2,101,2):\n",
        "    print(i,end=\" \")"
      ]
    },
    {
      "cell_type": "code",
      "execution_count": null,
      "metadata": {
        "colab": {
          "base_uri": "https://localhost:8080/"
        },
        "id": "D6q47IzoKfs8",
        "outputId": "6e388ae7-fafc-4880-9b80-7b3fc07673e9"
      },
      "outputs": [
        {
          "name": "stdout",
          "output_type": "stream",
          "text": [
            "factorial number is : 120\n"
          ]
        }
      ],
      "source": [
        "fact = 1\n",
        "for i in range(1,6):\n",
        "    fact = fact * i\n",
        "print(\"factorial number is :\",fact)"
      ]
    },
    {
      "cell_type": "code",
      "execution_count": null,
      "metadata": {
        "colab": {
          "base_uri": "https://localhost:8080/"
        },
        "id": "cqeji9WPMc5r",
        "outputId": "9084e7fb-1829-4037-a29a-7b9fa520c512"
      },
      "outputs": [
        {
          "name": "stdout",
          "output_type": "stream",
          "text": [
            "0 1 1 2 3 5 8 13 21 34 55 89 144 "
          ]
        }
      ],
      "source": [
        "a, b = 0, 1\n",
        "for i in range(1,14):\n",
        "    print(a,end=\" \")\n",
        "    a, b = b, a+b"
      ]
    },
    {
      "cell_type": "code",
      "execution_count": null,
      "metadata": {
        "colab": {
          "base_uri": "https://localhost:8080/"
        },
        "id": "zDdM6mhnPVpU",
        "outputId": "7c687574-9a45-4185-9ebf-02a9f4755aeb"
      },
      "outputs": [
        {
          "name": "stdout",
          "output_type": "stream",
          "text": [
            "Total vowels is : 8\n"
          ]
        }
      ],
      "source": [
        "sentence = \"Python programming language\"\n",
        "count = 0\n",
        "for ch in sentence :\n",
        "    if ch in \"aeiou\" :\n",
        "        count +=1\n",
        "print(\"Total vowels is :\", count)\n"
      ]
    },
    {
      "cell_type": "code",
      "execution_count": null,
      "metadata": {
        "colab": {
          "base_uri": "https://localhost:8080/"
        },
        "id": "WpTONDP6AaPI",
        "outputId": "d668941c-c5ad-4b53-e388-723fefa32303"
      },
      "outputs": [
        {
          "name": "stdout",
          "output_type": "stream",
          "text": [
            "Area of triangle is : 10.0\n"
          ]
        }
      ],
      "source": [
        "base = 4\n",
        "height = 5\n",
        "triangle = 0.5 * base * height\n",
        "print(\"Area of triangle is :\" , triangle)"
      ]
    },
    {
      "cell_type": "code",
      "execution_count": null,
      "metadata": {
        "colab": {
          "base_uri": "https://localhost:8080/"
        },
        "id": "nQKQxMeIBDk6",
        "outputId": "e571e483-bc0d-4993-9fde-df7deb06fe23"
      },
      "outputs": [
        {
          "name": "stdout",
          "output_type": "stream",
          "text": [
            "Area of circle is : 50.24\n"
          ]
        }
      ],
      "source": [
        "red = 4\n",
        "Area = 3.14 * red **2\n",
        "print(\"Area of circle is :\", Area)"
      ]
    },
    {
      "cell_type": "code",
      "execution_count": null,
      "metadata": {
        "colab": {
          "base_uri": "https://localhost:8080/"
        },
        "id": "pikNZBh-Bmzo",
        "outputId": "9ff551a9-52bb-4139-9402-4bd1e5c5435f"
      },
      "outputs": [
        {
          "name": "stdout",
          "output_type": "stream",
          "text": [
            "is a largest number in this list\n"
          ]
        }
      ],
      "source": [
        "example = [5,25,35,28,45,10,15]\n",
        "largest = example[0]\n",
        "for i in example :\n",
        "    if i > largest :\n",
        "         largest = i\n",
        "print(\"is a largest number in this list\")\n"
      ]
    },
    {
      "cell_type": "code",
      "execution_count": null,
      "metadata": {
        "colab": {
          "base_uri": "https://localhost:8080/"
        },
        "id": "OT99NLL5GuDn",
        "outputId": "abe7ac43-6aa5-4474-ceb3-767aa146a43a"
      },
      "outputs": [
        {
          "name": "stdout",
          "output_type": "stream",
          "text": [
            "Total consonents is : 28\n"
          ]
        }
      ],
      "source": [
        "sentence = \"Bachelor of computer science first semester section C\"\n",
        "count = 0\n",
        "for ch in sentence :\n",
        "  if ch in \"consonents\" :\n",
        "     count +=1\n",
        "print(\"Total consonents is :\",count)"
      ]
    },
    {
      "cell_type": "code",
      "execution_count": null,
      "metadata": {
        "colab": {
          "base_uri": "https://localhost:8080/"
        },
        "id": "zl-karyELqOd",
        "outputId": "6424c9a2-c171-4be4-951c-ced7b074acad"
      },
      "outputs": [
        {
          "name": "stdout",
          "output_type": "stream",
          "text": [
            "RX 100\n",
            "GT 650\n",
            "Ninja\n",
            "Splender\n",
            "Bajaj\n",
            "Pulser\n"
          ]
        }
      ],
      "source": [
        "bikes = [\"RX 100\", \"GT 650\", \"Ninja\", \"Splender\", \"Bajaj\", \"Pulser\", \"NS 200\", \"M 80\", \"Unicorn\"]\n",
        "for bike in bikes :\n",
        "    if bike == \"NS 200\" :\n",
        "        break\n",
        "    print(bike)"
      ]
    },
    {
      "cell_type": "code",
      "execution_count": null,
      "metadata": {
        "colab": {
          "base_uri": "https://localhost:8080/"
        },
        "id": "Jmtlt9GpgWVN",
        "outputId": "85557bcf-ff33-4fa2-828a-93d261e906ff"
      },
      "outputs": [
        {
          "name": "stdout",
          "output_type": "stream",
          "text": [
            "red\n",
            "yellow\n",
            "purple\n",
            "orange\n",
            "white\n",
            "black\n",
            "maroon\n",
            "gray\n"
          ]
        }
      ],
      "source": [
        "colours = {\"purple\", \"pink\", \"black\", \"white\", \"red\", \"orange\", \"levender\", \"gray\", \"yellow\", \"maroon\"}\n",
        "for color in colours :\n",
        "  if color ==\"pink\" :\n",
        "    break\n",
        "  print(color)"
      ]
    },
    {
      "cell_type": "code",
      "execution_count": null,
      "metadata": {
        "colab": {
          "base_uri": "https://localhost:8080/"
        },
        "id": "6yGtVP1-fKoc",
        "outputId": "35618e16-2aa2-46dc-aed4-8a29e86f7559"
      },
      "outputs": [
        {
          "name": "stdout",
          "output_type": "stream",
          "text": [
            "Apple\n",
            "Orange\n",
            "Mango\n",
            "Strawberry\n",
            "Dragon fruit\n",
            "Banana\n",
            "pinaple\n",
            "Pappaya\n",
            "Water melon\n"
          ]
        }
      ],
      "source": [
        "fruits = (\"Apple\", \"Orange\", \"Mango\", \"Strawberry\", \"Dragon fruit\", \"Grapes\", \"Banana\", \"pinaple\", \"Pappaya\", \"Water melon\")\n",
        "for fruit in fruits :\n",
        "    if fruit == \"Grapes\" :\n",
        "        continue\n",
        "    print(fruit)"
      ]
    },
    {
      "cell_type": "code",
      "execution_count": null,
      "metadata": {
        "colab": {
          "base_uri": "https://localhost:8080/"
        },
        "id": "iy_dQgIphA9c",
        "outputId": "db94f04b-2078-413c-e7bd-08eb3c029abc"
      },
      "outputs": [
        {
          "name": "stdout",
          "output_type": "stream",
          "text": [
            "Redmi\n",
            "Oppo\n",
            "Oppo\n",
            "IQuee\n",
            "One plus\n"
          ]
        }
      ],
      "source": [
        "mobiles = [\"Vivo\", \"Redmi\", \"Oppo\", \"Vivo\", \"Vivo\", \"Vivo\", \"Oppo\", \"IQuee\", \"Vivo\", \"One plus\"]\n",
        "for mobile in mobiles :\n",
        "    if mobile == \"Vivo\" :\n",
        "        continue\n",
        "    print(mobile)"
      ]
    },
    {
      "cell_type": "code",
      "execution_count": null,
      "metadata": {
        "colab": {
          "base_uri": "https://localhost:8080/"
        },
        "id": "ahiT3_cckyHP",
        "outputId": "dd15c833-9f52-42de-dad7-2b58de5c8c19"
      },
      "outputs": [
        {
          "name": "stdout",
          "output_type": "stream",
          "text": [
            "KGF\n",
            "Chhava\n",
            "Bahubali\n",
            "Saiyara\n",
            "RRR\n",
            "Kalki\n",
            "Kannadakagi ondannu otti\n"
          ]
        }
      ],
      "source": [
        "movies = [\"KGF\",\"Chhava\", \"Bahubali\", \"Saiyara\", \"RRR\", \"Kalki\", \"Kannadakagi ondannu otti\"]\n",
        "for movie in movies :\n",
        "    if movie == \"RRR\" :\n",
        "       pass\n",
        "    print(movie)"
      ]
    },
    {
      "cell_type": "code",
      "execution_count": null,
      "metadata": {
        "colab": {
          "base_uri": "https://localhost:8080/"
        },
        "id": "IjKnljFwl36I",
        "outputId": "4934e6e0-e830-4a0a-8118-0bcd452cbfbc"
      },
      "outputs": [
        {
          "name": "stdout",
          "output_type": "stream",
          "text": [
            "KGF\n",
            "Chhava\n",
            "Bahubali\n",
            "Saiyara\n"
          ]
        }
      ],
      "source": [
        "movies = [\"KGF\",\"Chhava\", \"Bahubali\", \"Saiyara\", \"RRR\", \"Kalki\", \"Kannadakagi ondannu otti\"]\n",
        "for movie in movies :\n",
        "    if movie == \"RRR\" :\n",
        "       break\n",
        "    print(movie)"
      ]
    },
    {
      "cell_type": "code",
      "execution_count": null,
      "metadata": {
        "colab": {
          "base_uri": "https://localhost:8080/"
        },
        "id": "J-OsDHU9mBWI",
        "outputId": "c6a24142-3dcb-48aa-94af-35c6261892ce"
      },
      "outputs": [
        {
          "name": "stdout",
          "output_type": "stream",
          "text": [
            "Tab\n",
            "Book\n",
            "Paper\n",
            "Monitor\n",
            "Mobile\n",
            "Pen\n",
            "Laptop\n"
          ]
        }
      ],
      "source": [
        "things = {\"Mobile\", \"Laptop\", \"Monitor\", \"Tab\", \"Book\", \"Pen\", \"Paper\",}\n",
        "for thing in things :\n",
        "    if thing == \"Marker\" :\n",
        "        pass\n",
        "    print(thing)"
      ]
    },
    {
      "cell_type": "code",
      "execution_count": null,
      "metadata": {
        "colab": {
          "base_uri": "https://localhost:8080/"
        },
        "id": "r4B4atN3mxTn",
        "outputId": "5366a0c1-960b-4e9a-9a20-2933728c55b3"
      },
      "outputs": [
        {
          "name": "stdout",
          "output_type": "stream",
          "text": [
            "Tab\n",
            "Book\n",
            "Paper\n",
            "Monitor\n",
            "Pen\n",
            "Laptop\n"
          ]
        }
      ],
      "source": [
        "things = {\"Mobile\", \"Laptop\", \"Monitor\", \"Tab\", \"Book\", \"Pen\", \"Paper\",}\n",
        "for thing in things :\n",
        "    if thing == \"Mobile\" :\n",
        "        continue\n",
        "    print(thing)"
      ]
    },
    {
      "cell_type": "code",
      "execution_count": null,
      "metadata": {
        "colab": {
          "base_uri": "https://localhost:8080/"
        },
        "id": "oOLvXDZhp-D5",
        "outputId": "4b6904b4-44ad-4f63-fd5a-bd1656de1cf4"
      },
      "outputs": [
        {
          "name": "stdout",
          "output_type": "stream",
          "text": [
            "* * * * * * * * * * \n",
            "* * * * * * * * * * \n",
            "* * * * * * * * * * \n",
            "* * * * * * * * * * \n",
            "* * * * * * * * * * \n",
            "* * * * * * * * * * \n",
            "* * * * * * * * * * \n",
            "* * * * * * * * * * \n",
            "* * * * * * * * * * \n",
            "* * * * * * * * * * \n"
          ]
        }
      ],
      "source": [
        "for i in range(10):\n",
        "    for j in range(10):\n",
        "        print(\"*\",end=\" \")\n",
        "    print()"
      ]
    },
    {
      "cell_type": "code",
      "execution_count": null,
      "metadata": {
        "colab": {
          "base_uri": "https://localhost:8080/"
        },
        "id": "J4LLnWmfqhRq",
        "outputId": "b6fe8389-f46d-42dc-ac9f-336d688e9efd"
      },
      "outputs": [
        {
          "name": "stdout",
          "output_type": "stream",
          "text": [
            "1 1 1 1 1 1 1 1 1 1 \n",
            "1 1 1 1 1 1 1 1 1 1 \n",
            "1 1 1 1 1 1 1 1 1 1 \n",
            "1 1 1 1 1 1 1 1 1 1 \n",
            "1 1 1 1 1 1 1 1 1 1 \n",
            "1 1 1 1 1 1 1 1 1 1 \n",
            "1 1 1 1 1 1 1 1 1 1 \n",
            "1 1 1 1 1 1 1 1 1 1 \n",
            "1 1 1 1 1 1 1 1 1 1 \n",
            "1 1 1 1 1 1 1 1 1 1 \n"
          ]
        }
      ],
      "source": [
        "for i in range(10):\n",
        "    for j in range(10):\n",
        "        print(\"1\",end=\" \")\n",
        "    print()"
      ]
    },
    {
      "cell_type": "code",
      "execution_count": null,
      "metadata": {
        "colab": {
          "base_uri": "https://localhost:8080/"
        },
        "id": "OImVJDcvqwXg",
        "outputId": "41d6c6b8-bb23-48b6-9294-98378cb2bf8b"
      },
      "outputs": [
        {
          "name": "stdout",
          "output_type": "stream",
          "text": [
            "0 0 0 0 0 0 0 0 0 0 \n",
            "1 1 1 1 1 1 1 1 1 1 \n",
            "2 2 2 2 2 2 2 2 2 2 \n",
            "3 3 3 3 3 3 3 3 3 3 \n",
            "4 4 4 4 4 4 4 4 4 4 \n",
            "5 5 5 5 5 5 5 5 5 5 \n",
            "6 6 6 6 6 6 6 6 6 6 \n",
            "7 7 7 7 7 7 7 7 7 7 \n",
            "8 8 8 8 8 8 8 8 8 8 \n",
            "9 9 9 9 9 9 9 9 9 9 \n"
          ]
        }
      ],
      "source": [
        "for i in range(10):\n",
        "    for j in range(10):\n",
        "        print(i,end=\" \")\n",
        "    print()"
      ]
    },
    {
      "cell_type": "code",
      "execution_count": null,
      "metadata": {
        "colab": {
          "base_uri": "https://localhost:8080/"
        },
        "id": "fsRBGIxyrrqC",
        "outputId": "c200257f-9cce-41e7-87d3-c65270d3373d"
      },
      "outputs": [
        {
          "name": "stdout",
          "output_type": "stream",
          "text": [
            "0 1 2 3 4 5 6 7 8 \n",
            "0 1 2 3 4 5 6 7 \n",
            "0 1 2 3 4 5 6 \n",
            "0 1 2 3 4 5 \n",
            "0 1 2 3 4 \n",
            "0 1 2 3 \n",
            "0 1 2 \n",
            "0 1 \n",
            "0 \n"
          ]
        }
      ],
      "source": [
        "for i in range(1,10):\n",
        "    for j in range(j):\n",
        "        print(j,end=\" \")\n",
        "    print()"
      ]
    },
    {
      "cell_type": "code",
      "execution_count": null,
      "metadata": {
        "colab": {
          "base_uri": "https://localhost:8080/"
        },
        "id": "9LPX5qO9sMjQ",
        "outputId": "edd7ed10-46bd-4b14-d345-46dbd08c300f"
      },
      "outputs": [
        {
          "name": "stdout",
          "output_type": "stream",
          "text": [
            "0 \n",
            "0 1 \n",
            "0 1 2 \n",
            "0 1 2 3 \n",
            "0 1 2 3 4 \n",
            "0 1 2 3 4 5 \n",
            "0 1 2 3 4 5 6 \n",
            "0 1 2 3 4 5 6 7 \n",
            "0 1 2 3 4 5 6 7 8 \n"
          ]
        }
      ],
      "source": [
        "for i in range(1,10):\n",
        "    for j in range(i):\n",
        "        print(j,end=\" \")\n",
        "    print()"
      ]
    },
    {
      "cell_type": "code",
      "execution_count": null,
      "metadata": {
        "colab": {
          "base_uri": "https://localhost:8080/"
        },
        "id": "A0kFP9ev8fTd",
        "outputId": "97d03d48-75dc-4b1f-bc72-00225d945585"
      },
      "outputs": [
        {
          "name": "stdout",
          "output_type": "stream",
          "text": [
            "  * * * * * * * * \n",
            "    * * * * * * * * \n",
            "      * * * * * * * * \n",
            "        * * * * * * * * \n",
            "          * * * * * * * * \n",
            "            * * * * * * * * \n",
            "              * * * * * * * * \n",
            "                * * * * * * * * \n"
          ]
        }
      ],
      "source": [
        "for i in range(8):\n",
        "    for j in range(0,i+1):\n",
        "        print(\" \",end=\" \")\n",
        "    for j in range(8):\n",
        "        print(\"*\",end=\" \")\n",
        "    print()"
      ]
    },
    {
      "cell_type": "code",
      "execution_count": null,
      "metadata": {
        "colab": {
          "base_uri": "https://localhost:8080/"
        },
        "id": "uGeZICnl_4o9",
        "outputId": "1e93bd56-9bbd-4a61-af4e-6485cd6e6076"
      },
      "outputs": [
        {
          "name": "stdout",
          "output_type": "stream",
          "text": [
            "                * * * * * * * * \n",
            "                * * * * * * * * \n",
            "                * * * * * * * * \n",
            "                * * * * * * * * \n",
            "                * * * * * * * * \n",
            "                * * * * * * * * \n",
            "                * * * * * * * * \n",
            "                * * * * * * * * \n"
          ]
        }
      ],
      "source": [
        "\n",
        "for i in range(8):\n",
        "    for j in range(0,8):\n",
        "        print(\" \",end=\" \")\n",
        "    for j in range(8):\n",
        "        print(\"*\",end=\" \")\n",
        "    print()"
      ]
    },
    {
      "cell_type": "code",
      "execution_count": null,
      "metadata": {
        "colab": {
          "base_uri": "https://localhost:8080/"
        },
        "id": "ETkMsifrAlgv",
        "outputId": "6cb3eaf6-78a5-411f-cc34-d52011c5e3cb"
      },
      "outputs": [
        {
          "name": "stdout",
          "output_type": "stream",
          "text": [
            "        * * * * * \n",
            "      * * * * * \n",
            "    * * * * * \n",
            "  * * * * * \n",
            "* * * * * \n"
          ]
        }
      ],
      "source": [
        "for i in range(5):\n",
        "    for j in range(i+1,5):\n",
        "        print(\" \",end=\" \")\n",
        "    for j in range(5):\n",
        "        print(\"*\",end=\" \")\n",
        "    print()"
      ]
    },
    {
      "cell_type": "code",
      "execution_count": null,
      "metadata": {
        "colab": {
          "base_uri": "https://localhost:8080/"
        },
        "id": "ENNbSsikBbxf",
        "outputId": "6f6d0329-a974-47c2-ab35-7c9eeb3f8183"
      },
      "outputs": [
        {
          "name": "stdout",
          "output_type": "stream",
          "text": [
            "        BK BK BK BK BK \n",
            "      BK BK BK BK BK \n",
            "    BK BK BK BK BK \n",
            "  BK BK BK BK BK \n",
            "BK BK BK BK BK \n"
          ]
        }
      ],
      "source": [
        "for i in range(5):\n",
        "    for j in range(i+1,5):\n",
        "        print(\" \",end=\" \")\n",
        "    for j in range(5):\n",
        "        print(\"BK\",end=\" \")\n",
        "    print()"
      ]
    },
    {
      "cell_type": "code",
      "execution_count": null,
      "metadata": {
        "colab": {
          "base_uri": "https://localhost:8080/"
        },
        "id": "J4QKAblDDsAH",
        "outputId": "f822796a-4c8d-4bd6-b537-e4a1fd9e2835"
      },
      "outputs": [
        {
          "name": "stdout",
          "output_type": "stream",
          "text": [
            "* * * * * * * * * * \n",
            "*                 * \n",
            "*                 * \n",
            "*                 * \n",
            "*                 * \n",
            "*                 * \n",
            "*                 * \n",
            "*                 * \n",
            "*                 * \n",
            "* * * * * * * * * * \n"
          ]
        }
      ],
      "source": [
        "row = 10\n",
        "col = 10\n",
        "for i in range(0,row):\n",
        "    for j in range(0,col):\n",
        "        if i == 0 or j == 0 or i == row-1 or j == col-1:\n",
        "            print(\"*\",end=\" \")\n",
        "        else:\n",
        "            print(\" \",end=\" \")\n",
        "    print()"
      ]
    },
    {
      "cell_type": "code",
      "execution_count": null,
      "metadata": {
        "colab": {
          "base_uri": "https://localhost:8080/"
        },
        "id": "S7ENlQj6Fw1I",
        "outputId": "17dc7fa5-fd8b-4691-866e-1c7819694257"
      },
      "outputs": [
        {
          "name": "stdout",
          "output_type": "stream",
          "text": [
            "\n",
            "% \n",
            "% % \n",
            "% % % \n",
            "% % % % \n",
            "% % % % % \n",
            "% % % % % % \n",
            "% % % % % % % \n",
            "% % % % % % % % \n",
            "% % % % % % % % % \n"
          ]
        }
      ],
      "source": [
        "for i in range(10):\n",
        "    for j in range(i):\n",
        "        print(\"%\",end=\" \")\n",
        "    print()"
      ]
    },
    {
      "cell_type": "code",
      "execution_count": null,
      "metadata": {
        "colab": {
          "base_uri": "https://localhost:8080/"
        },
        "id": "HhZLgPxzHDrX",
        "outputId": "54e16711-3e38-4f81-c6fd-ca8423c1cd8f"
      },
      "outputs": [
        {
          "name": "stdout",
          "output_type": "stream",
          "text": [
            "            * \n",
            "          * * * \n",
            "        * * * * * \n",
            "      * * * * * * * \n",
            "    * * * * * * * * * \n",
            "  * * * * * * * * * * * \n",
            "* * * * * * * * * * * * * \n"
          ]
        }
      ],
      "source": [
        "num = 7\n",
        "for i in range(0,num):\n",
        "    for j in range(0,num-i-1):\n",
        "        print(\" \",end=\" \")\n",
        "    for j in range(0,i*2+1):\n",
        "        print(\"*\",end=\" \")\n",
        "    print()"
      ]
    },
    {
      "cell_type": "code",
      "execution_count": null,
      "metadata": {
        "colab": {
          "base_uri": "https://localhost:8080/"
        },
        "id": "9JWjsw3AJYgr",
        "outputId": "27ad02ab-47a0-4d04-ca6a-5e6f66121152"
      },
      "outputs": [
        {
          "name": "stdout",
          "output_type": "stream",
          "text": [
            "            a \n",
            "          a b c \n",
            "        a b c d e \n",
            "      a b c d e f g \n",
            "    a b c d e f g h i \n",
            "  a b c d e f g h i j k \n",
            "a b c d e f g h i j k l m \n"
          ]
        }
      ],
      "source": [
        "num = 7\n",
        "for i in range(0,num):\n",
        "    for j in range(0,num-i-1):\n",
        "        print(\" \",end=\" \")\n",
        "    for j in range(0,i*2+1):\n",
        "        print(chr(97+j),end=\" \")\n",
        "    print()"
      ]
    },
    {
      "cell_type": "code",
      "execution_count": null,
      "metadata": {
        "colab": {
          "base_uri": "https://localhost:8080/"
        },
        "id": "LciO-zjAJk92",
        "outputId": "78b7acf9-7df5-4ef6-d212-65b3642c6438"
      },
      "outputs": [
        {
          "name": "stdout",
          "output_type": "stream",
          "text": [
            "            A \n",
            "          A B C \n",
            "        A B C D E \n",
            "      A B C D E F G \n",
            "    A B C D E F G H I \n",
            "  A B C D E F G H I J K \n",
            "A B C D E F G H I J K L M \n"
          ]
        }
      ],
      "source": [
        "num = 7\n",
        "for i in range(0,num):\n",
        "    for j in range(0,num-i-1):\n",
        "        print(\" \",end=\" \")\n",
        "    for j in range(0,i*2+1):\n",
        "        print(chr(65+j),end=\" \")\n",
        "    print()"
      ]
    },
    {
      "cell_type": "code",
      "execution_count": null,
      "metadata": {
        "colab": {
          "base_uri": "https://localhost:8080/"
        },
        "id": "NhE1xjPpJx7e",
        "outputId": "0e87d081-5eac-40c9-98d5-e9e01890acfd"
      },
      "outputs": [
        {
          "name": "stdout",
          "output_type": "stream",
          "text": [
            "            123 \n",
            "          123 124 125 \n",
            "        123 124 125 126 127 \n",
            "      123 124 125 126 127 128 129 \n",
            "    123 124 125 126 127 128 129 130 131 \n",
            "  123 124 125 126 127 128 129 130 131 132 133 \n",
            "123 124 125 126 127 128 129 130 131 132 133 134 135 \n"
          ]
        }
      ],
      "source": [
        "num = 7\n",
        "for i in range(0,num):\n",
        "    for j in range(0,num-i-1):\n",
        "        print(\" \",end=\" \")\n",
        "    for j in range(0,i*2+1):\n",
        "        print(int(123+j),end=\" \")\n",
        "    print()"
      ]
    },
    {
      "cell_type": "code",
      "execution_count": null,
      "metadata": {
        "colab": {
          "base_uri": "https://localhost:8080/"
        },
        "id": "nSMuUl4iKZdw",
        "outputId": "af702e9b-9137-4d59-dac1-9a153d6768d7"
      },
      "outputs": [
        {
          "name": "stdout",
          "output_type": "stream",
          "text": [
            "            * \n",
            "          * * * \n",
            "        * * * * * \n",
            "      * * * * * * * \n",
            "    * * * * * * * * * \n",
            "  * * * * * * * * * * * \n",
            "* * * * * * * * * * * * * \n",
            "* * * * * * * * * * * * * \n",
            "  * * * * * * * * * * * \n",
            "    * * * * * * * * * \n",
            "      * * * * * * * \n",
            "        * * * * * \n",
            "          * * * \n",
            "            * \n"
          ]
        }
      ],
      "source": [
        "num = 7\n",
        "for i in range(0,num):\n",
        "    for j in range(0,num-i-1):\n",
        "        print(\" \",end=\" \")\n",
        "    for j in range(0,i*2+1):\n",
        "        print(\"*\",end=\" \")\n",
        "    print()\n",
        "for i in range(0,num):\n",
        "    for j in range(0,i):\n",
        "        print(\" \",end=\" \")\n",
        "    for j in range(0,(num-i)*2-1):\n",
        "        print(\"*\",end=\" \")\n",
        "    print()"
      ]
    },
    {
      "cell_type": "code",
      "execution_count": null,
      "metadata": {
        "colab": {
          "base_uri": "https://localhost:8080/"
        },
        "id": "GX28NM0eRxVj",
        "outputId": "1049c8a8-89c3-4b64-8715-d77dff79e242"
      },
      "outputs": [
        {
          "name": "stdout",
          "output_type": "stream",
          "text": [
            "Good Afternoon\n"
          ]
        }
      ],
      "source": [
        "def example():\n",
        "    print(\"Good Afternoon\")\n",
        "example()"
      ]
    },
    {
      "cell_type": "code",
      "execution_count": null,
      "metadata": {
        "colab": {
          "base_uri": "https://localhost:8080/"
        },
        "id": "DoVFvWjVSR_K",
        "outputId": "142430e0-5df0-42d6-91d6-4c0d1193fb50"
      },
      "outputs": [
        {
          "name": "stdout",
          "output_type": "stream",
          "text": [
            "16\n"
          ]
        }
      ],
      "source": [
        "def fun(num):\n",
        "    return num*num\n",
        "print(fun(4))"
      ]
    },
    {
      "cell_type": "code",
      "execution_count": null,
      "metadata": {
        "colab": {
          "base_uri": "https://localhost:8080/"
        },
        "id": "-pb8Rhn7T3db",
        "outputId": "11342e55-83d4-4fce-d4a9-3da46cb59ed6"
      },
      "outputs": [
        {
          "name": "stdout",
          "output_type": "stream",
          "text": [
            "Addition of two numbers is 15\n"
          ]
        }
      ],
      "source": [
        "def add(a,b):\n",
        "    print(f'Addition of two numbers is {a+b}')\n",
        "add(5,10)"
      ]
    },
    {
      "cell_type": "code",
      "execution_count": null,
      "metadata": {
        "colab": {
          "base_uri": "https://localhost:8080/"
        },
        "id": "aYjr_OPWYPSb",
        "outputId": "64996751-d515-4e3c-8873-ad0f67677a3e"
      },
      "outputs": [
        {
          "name": "stdout",
          "output_type": "stream",
          "text": [
            "My name is sonali iam studying BCA in KLE BK college. My roll_number is 101 and section A\n"
          ]
        }
      ],
      "source": [
        "def example (roll_num,name,section,department,college):\n",
        "    print(f\"My name is {name} iam studying {department} in {college} college. My roll_number is {roll_num} and section {section}\")\n",
        "example(101, \"sonali\", 'A', \"BCA\", \"KLE BK\")\n"
      ]
    },
    {
      "cell_type": "code",
      "execution_count": null,
      "metadata": {
        "colab": {
          "base_uri": "https://localhost:8080/"
        },
        "id": "8VYE25iCcxxl",
        "outputId": "8df59dd6-5ba0-4222-f35b-5f76b6f77ef8"
      },
      "outputs": [
        {
          "name": "stdout",
          "output_type": "stream",
          "text": [
            "iam Sonali ; iam playing Cricket at Evening time\n"
          ]
        }
      ],
      "source": [
        "def fun(name,game,time):\n",
        "    print(f\"iam {name} ; iam playing {game} at {time} time\")\n",
        "fun(time = \"Evening\",name = \"Sonali\",game = \"Cricket\")"
      ]
    },
    {
      "cell_type": "code",
      "execution_count": null,
      "metadata": {
        "colab": {
          "base_uri": "https://localhost:8080/"
        },
        "id": "EtaePm2aecEw",
        "outputId": "e542df2d-faea-469f-c635-1fa7675d3011"
      },
      "outputs": [
        {
          "name": "stdout",
          "output_type": "stream",
          "text": [
            "My laptop name is : Dell\n",
            "My laptop name is : HP\n",
            "My laptop name is : Lenovo\n",
            "My laptop name is : Asus\n"
          ]
        }
      ],
      "source": [
        "def Laptop(name = \"Lenovo\"):\n",
        "    print(\"My laptop name is :\",name)\n",
        "Laptop(\"Dell\")\n",
        "Laptop(\"HP\")\n",
        "Laptop()\n",
        "Laptop(\"Asus\")"
      ]
    },
    {
      "cell_type": "code",
      "execution_count": null,
      "metadata": {
        "colab": {
          "base_uri": "https://localhost:8080/"
        },
        "id": "pgagy0yMDpi7",
        "outputId": "2e651fe4-d2ee-41fa-d292-0b2267eb8b74"
      },
      "outputs": [
        {
          "name": "stdout",
          "output_type": "stream",
          "text": [
            "Total value is : 15\n",
            "Total value is : 18\n",
            "Total value is : 90\n"
          ]
        }
      ],
      "source": [
        "def add(*args):\n",
        "    total = 0\n",
        "    for num in args :\n",
        "        total +=num\n",
        "    print(\"Total value is :\",total)\n",
        "\n",
        "add(10,5)\n",
        "add(5,4,9)\n",
        "add(10,46,14,20)\n"
      ]
    },
    {
      "cell_type": "code",
      "execution_count": null,
      "metadata": {
        "colab": {
          "base_uri": "https://localhost:8080/"
        },
        "id": "pOWCvggwL3bY",
        "outputId": "a677fe3f-6185-4674-bc13-f6087c1b84cf"
      },
      "outputs": [
        {
          "name": "stdout",
          "output_type": "stream",
          "text": [
            "name=Basavaraj\n",
            "age=25\n",
            "city=Bangalore\n"
          ]
        }
      ],
      "source": [
        "def print_details(**kwargs):\n",
        "  for key, value in kwargs.items():\n",
        "    print(f\"{key}={value}\")\n",
        "\n",
        "print_details(name='Basavaraj', age=25, city='Bangalore')"
      ]
    },
    {
      "cell_type": "code",
      "execution_count": null,
      "metadata": {
        "colab": {
          "base_uri": "https://localhost:8080/"
        },
        "id": "bulKbtPoMpuf",
        "outputId": "12ffa285-bab0-4ed9-d4d6-a9313009eb3c"
      },
      "outputs": [
        {
          "name": "stdout",
          "output_type": "stream",
          "text": [
            "name=shrushti\n",
            "course=BCA\n",
            "section=C\n",
            "college=BK College\n"
          ]
        }
      ],
      "source": [
        "def print_details(**kwargs):\n",
        "  for key, value in kwargs.items():\n",
        "    print(f\"{key}={value}\")\n",
        "\n",
        "print_details(name = 'shrushti', course = \"BCA\", section = 'C', college = \"BK College\")"
      ]
    },
    {
      "cell_type": "code",
      "execution_count": null,
      "metadata": {
        "colab": {
          "base_uri": "https://localhost:8080/"
        },
        "id": "NL3HFt3BP22V",
        "outputId": "ec279fe8-386b-4215-eaae-159999c3fab9"
      },
      "outputs": [
        {
          "name": "stdout",
          "output_type": "stream",
          "text": [
            " course = BCA\n",
            " section = C\n",
            " College = BK College\n",
            " place = Bengaluru\n",
            " roll_num = 201\n",
            " T_Subject = 7\n"
          ]
        }
      ],
      "source": [
        "def print_details(**kwargs):\n",
        "  for key, value in kwargs.items():\n",
        "      print(f' {key} = {value}')\n",
        "\n",
        "print_details(course=\"BCA\",section='C',College=\"BK College\")\n",
        "print_details(place = \"Bengaluru\")\n",
        "print_details(roll_num = 201, T_Subject=7)"
      ]
    },
    {
      "cell_type": "code",
      "execution_count": null,
      "metadata": {
        "colab": {
          "base_uri": "https://localhost:8080/"
        },
        "id": "gyP9kQMmQjAv",
        "outputId": "2e06aa50-be50-47c0-f0dc-741cfe19c185"
      },
      "outputs": [
        {
          "name": "stdout",
          "output_type": "stream",
          "text": [
            "Positional Arguments representation in Tuple (1, 2, 3, 4)\n",
            "Key-words Arguments represented in Dict {'name': 'Sonali'}\n",
            "Positional Arguments representation in Tuple (5, 8, 1, 10)\n",
            "Key-words Arguments represented in Dict {'Class': 'BCA C section', 'gender': 'female'}\n"
          ]
        }
      ],
      "source": [
        "def show_values(*args,**kwargs):\n",
        "    print(\"Positional Arguments representation in Tuple\",args)\n",
        "    print(\"Key-words Arguments represented in Dict\",kwargs)\n",
        "show_values(1,2,3,4,name=\"Sonali\")\n",
        "\n",
        "show_values(5,8,1,10,Class = \"BCA C section\",gender = \"female\")"
      ]
    },
    {
      "cell_type": "code",
      "execution_count": null,
      "metadata": {
        "colab": {
          "base_uri": "https://localhost:8080/"
        },
        "id": "CHlqhWBVSyxh",
        "outputId": "c1794f09-9ad2-4a83-ae6b-115828233c93"
      },
      "outputs": [
        {
          "name": "stdout",
          "output_type": "stream",
          "text": [
            "1\n",
            "2\n",
            "6\n",
            "24\n",
            "120\n"
          ]
        }
      ],
      "source": [
        "i = 1\n",
        "fact = 1\n",
        "while i < 6:\n",
        "    fact = fact * i\n",
        "    print(fact)\n",
        "    i=i+1\n"
      ]
    },
    {
      "cell_type": "code",
      "execution_count": null,
      "metadata": {
        "colab": {
          "base_uri": "https://localhost:8080/"
        },
        "id": "o2s3Wyl-VLuc",
        "outputId": "5400d5a0-1efc-41bf-d387-371074c13009"
      },
      "outputs": [
        {
          "name": "stdout",
          "output_type": "stream",
          "text": [
            "factorial number is : 120\n"
          ]
        }
      ],
      "source": [
        "def  fact(num):\n",
        "  if num == 0 or num == 1:\n",
        "    return 1\n",
        "  else:\n",
        "    return num * fact(num-1)\n",
        "print(\"factorial number is :\",fact(5))\n",
        "\n"
      ]
    },
    {
      "cell_type": "code",
      "execution_count": null,
      "metadata": {
        "colab": {
          "base_uri": "https://localhost:8080/"
        },
        "id": "-vepg2NIXe41",
        "outputId": "c555ae78-db4c-49bc-be4c-27881608c673"
      },
      "outputs": [
        {
          "name": "stdout",
          "output_type": "stream",
          "text": [
            "fibonaci number is : 16\n"
          ]
        }
      ],
      "source": [
        "def fib(num):\n",
        "    if num == 0 or num == 1:\n",
        "        return num\n",
        "    else:\n",
        "        return fib(num-1) + fib(num-1)\n",
        "print(\"fibonaci number is :\",fib(5))"
      ]
    },
    {
      "cell_type": "code",
      "execution_count": null,
      "metadata": {
        "colab": {
          "base_uri": "https://localhost:8080/"
        },
        "id": "nfACDvqbY45U",
        "outputId": "6be1831f-9a97-4fbb-928a-e2d1c0156aa4"
      },
      "outputs": [
        {
          "name": "stdout",
          "output_type": "stream",
          "text": [
            "sum of N narural number is : 55\n"
          ]
        }
      ],
      "source": [
        "def sum(num):\n",
        "    if num == 0:\n",
        "        return num\n",
        "    else:\n",
        "        return num + sum(num-1)\n",
        "print(\"sum of N narural number is :\",sum(10))"
      ]
    },
    {
      "cell_type": "code",
      "execution_count": null,
      "metadata": {
        "colab": {
          "base_uri": "https://localhost:8080/"
        },
        "id": "sXNLi-HQc47r",
        "outputId": "7bdbaae3-7404-4656-8ac0-548be6d8c5c7"
      },
      "outputs": [
        {
          "name": "stdout",
          "output_type": "stream",
          "text": [
            "0 1 1 2 3 5 8 13 21 34 55 "
          ]
        }
      ],
      "source": [
        "def fibo(num):\n",
        "    if num <= 1:\n",
        "        return num\n",
        "    else :\n",
        "        return fibo(num-1) + fibo(num-2)\n",
        "for i in range(11):\n",
        "    print(fibo(i),end=\" \")"
      ]
    },
    {
      "cell_type": "code",
      "execution_count": null,
      "metadata": {
        "colab": {
          "base_uri": "https://localhost:8080/"
        },
        "id": "85FgaT1Sgb0h",
        "outputId": "1be15259-9725-4ab8-afbb-a11381189550"
      },
      "outputs": [
        {
          "name": "stdout",
          "output_type": "stream",
          "text": [
            "vasu\n"
          ]
        }
      ],
      "source": [
        "name=\"vasu\"\n",
        "print(name[:4])"
      ]
    },
    {
      "cell_type": "code",
      "execution_count": null,
      "metadata": {
        "colab": {
          "base_uri": "https://localhost:8080/"
        },
        "id": "IxI67Kkzp7Gs",
        "outputId": "569a3416-538b-49cc-cfb6-e63d1b154124"
      },
      "outputs": [
        {
          "name": "stdout",
          "output_type": "stream",
          "text": [
            "orange colour is  orange\n",
            "sweet\n",
            "250\n"
          ]
        }
      ],
      "source": [
        "class Fruit:\n",
        "    colour=\"orange\"\n",
        "    price=250\n",
        "    teste=\"sweet\"\n",
        "    shape=\"circle\"\n",
        "    def juice(self):\n",
        "        print(\"sweet\")\n",
        "orange = Fruit()\n",
        "print(\"orange colour is \",orange.colour)\n",
        "orange.juice()\n",
        "print(orange.price)\n"
      ]
    },
    {
      "cell_type": "code",
      "execution_count": null,
      "metadata": {
        "colab": {
          "base_uri": "https://localhost:8080/"
        },
        "id": "fJxeVHpwuK68",
        "outputId": "ad8cd39a-e857-4446-a65a-aed7dea37928"
      },
      "outputs": [
        {
          "name": "stdout",
          "output_type": "stream",
          "text": [
            "Marriage\n",
            "male\n",
            "Hello Good Morning\n",
            "Good Afternoon\n",
            "This flower using for death time\n"
          ]
        }
      ],
      "source": [
        "class Flower:\n",
        "     colour = \"white\"\n",
        "     smell = \"nice\"\n",
        "     petal = 5\n",
        "     size = \"medium\"\n",
        "     gender = \"male\"\n",
        "     validity = 1.5\n",
        "     def Decoration(self):\n",
        "         print(\"Hello Good Morning\")\n",
        "     def Gift(self):\n",
        "         print(\"Good Afternoon\")\n",
        "     def Marriage(self):\n",
        "         print(\"Marriage\")\n",
        "     def Death(self):\n",
        "         print(\"This flower using for death time\")\n",
        "obj = Flower()\n",
        "obj.Marriage()\n",
        "print(obj.gender)\n",
        "obj.Decoration()\n",
        "obj.Gift()\n",
        "obj.Death()"
      ]
    },
    {
      "cell_type": "code",
      "execution_count": null,
      "metadata": {
        "colab": {
          "base_uri": "https://localhost:8080/"
        },
        "id": "d3njAl1Cx5uh",
        "outputId": "d0812f15-23b1-41f1-fb27-f36140bc461e"
      },
      "outputs": [
        {
          "name": "stdout",
          "output_type": "stream",
          "text": [
            "Bajaj 2 year\n",
            "When click on button it will start\n",
            "Based on condition it will move fast\n",
            "When click on button it will stop\n"
          ]
        }
      ],
      "source": [
        "class Fan :\n",
        "    colour = \"Black\"\n",
        "    Wings = 3\n",
        "    c_name = \"Bajaj\"\n",
        "    price = 1500\n",
        "    Warranty = \"2 year\"\n",
        "    def start(self):\n",
        "        print(\"When click on button it will start\")\n",
        "    def speed(self):\n",
        "        print(\"Based on condition it will move fast\")\n",
        "    def stop(self):\n",
        "        print(\"When click on button it will stop\")\n",
        "obj = Fan()\n",
        "print(obj.c_name+ \" \"+ obj.Warranty)\n",
        "obj.start()\n",
        "obj.speed()\n",
        "obj.stop()\n",
        "\n"
      ]
    },
    {
      "cell_type": "code",
      "execution_count": null,
      "metadata": {
        "colab": {
          "base_uri": "https://localhost:8080/"
        },
        "id": "_UstH4iL00hQ",
        "outputId": "d439ac65-9536-416a-de3d-793a82990903"
      },
      "outputs": [
        {
          "name": "stdout",
          "output_type": "stream",
          "text": [
            "my name is a  Basavraj\n"
          ]
        }
      ],
      "source": [
        "def fun(name):\n",
        "    print(\"my name is a \",name)\n",
        "fun(\"Basavraj\")"
      ]
    },
    {
      "cell_type": "code",
      "execution_count": null,
      "metadata": {
        "colab": {
          "base_uri": "https://localhost:8080/"
        },
        "id": "Q088uelxE0k5",
        "outputId": "0b2b80b7-acd9-4168-f0e9-4892ed761208"
      },
      "outputs": [
        {
          "name": "stdout",
          "output_type": "stream",
          "text": [
            "1000\n",
            "1500\n",
            "Transaction successfully\n",
            "800\n",
            "Current total balance is 1800\n",
            "Insufficient balance\n",
            "1800\n",
            "Transaction successfully\n",
            "current total balance is  300\n",
            "300\n",
            "1300\n"
          ]
        }
      ],
      "source": [
        "class Bank :\n",
        "   def __init__(self,balance):\n",
        "       self.balance = balance\n",
        "   def Deposit(self,amount):\n",
        "       self.balance += amount\n",
        "   def Withdraw(self,amount):\n",
        "       if amount <= self.balance :\n",
        "           self.balance -= amount\n",
        "           print(\"Transaction successfully\")\n",
        "       else :\n",
        "           print(\"Insufficient balance\")\n",
        "   def re_balance(self):\n",
        "       return self.balance\n",
        "\n",
        "obj = Bank(1000)\n",
        "print(obj.balance)\n",
        "obj.Deposit(500)\n",
        "print(obj.balance)\n",
        "obj.Withdraw(700)\n",
        "print(obj.re_balance())\n",
        "obj.Deposit(1000)\n",
        "print(\"Current total balance is\",obj.balance)\n",
        "obj.Withdraw(2000)\n",
        "print(obj.balance)\n",
        "obj.Withdraw(1500)\n",
        "print(\"current total balance is \",obj.balance)\n",
        "print(obj.re_balance())\n",
        "obj.Deposit(1000)\n",
        "print(obj.balance)\n",
        "\n"
      ]
    },
    {
      "cell_type": "code",
      "execution_count": null,
      "metadata": {
        "colab": {
          "base_uri": "https://localhost:8080/"
        },
        "id": "_oSI0FDHPYPs",
        "outputId": "c67ad878-8e81-4046-fc54-17dc7957f940"
      },
      "outputs": [
        {
          "name": "stdout",
          "output_type": "stream",
          "text": [
            "Sharat 89\n"
          ]
        }
      ],
      "source": [
        "class Student :\n",
        "  def __init__(self,name,marks,place):\n",
        "    self.__name = name\n",
        "    self.__marks = marks\n",
        "    self.__place = place\n",
        "\n",
        "  def set_method(self,name,marks):\n",
        "        self.name = name\n",
        "        self.marks = marks\n",
        "\n",
        "  def get_method(self):\n",
        "        return self.name+\" \"+str(self.marks)\n",
        "\n",
        "obj = Student(\"Sonali\",85,\"Kerur\")\n",
        "obj.set_method(\"Sharat\",89)\n",
        "print(obj.get_method())\n"
      ]
    },
    {
      "cell_type": "code",
      "execution_count": null,
      "metadata": {
        "colab": {
          "base_uri": "https://localhost:8080/"
        },
        "id": "kkMTpLxaYN-B",
        "outputId": "e51699bd-e51a-432d-956b-2b6557b7b5c9"
      },
      "outputs": [
        {
          "name": "stdout",
          "output_type": "stream",
          "text": [
            "My parents are doing forming\n",
            "Iam studying BCA in BK College\n"
          ]
        }
      ],
      "source": [
        "# SINGLE INHERITANCE\n",
        "class Parent :\n",
        "    def Work(self):\n",
        "        print(\"My parents are doing forming\")\n",
        "\n",
        "class Children(Parent):\n",
        "    def Study(self):\n",
        "        print(\"Iam studying BCA in BK College\")\n",
        "Ch = Children()\n",
        "Ch.Work()\n",
        "Ch.Study()\n"
      ]
    },
    {
      "cell_type": "code",
      "execution_count": null,
      "metadata": {
        "colab": {
          "base_uri": "https://localhost:8080/"
        },
        "id": "2JUyNkaIdRo-",
        "outputId": "20317efe-965a-4079-e5f9-bcbb59ff6c69"
      },
      "outputs": [
        {
          "name": "stdout",
          "output_type": "stream",
          "text": [
            "My father is my first hero\n",
            "My mother is a house wife\n",
            "iam working as a Freelancer\n"
          ]
        }
      ],
      "source": [
        "# MULTIPLE INHERITANCE\n",
        "class Father :\n",
        "    def Hi(self):\n",
        "        print(\"My father is my first hero\")\n",
        "\n",
        "class Mother :\n",
        "    def Hello(self):\n",
        "        print(\"My mother is a house wife\")\n",
        "\n",
        "class Child(Father, Mother) : # Inheriting from both Father and Mother\n",
        "    def Bye(self):\n",
        "        print(\"iam working as a Freelancer\")\n",
        "obj = Child()\n",
        "obj.Hi()\n",
        "obj.Hello()\n",
        "obj.Bye()"
      ]
    },
    {
      "cell_type": "code",
      "execution_count": null,
      "metadata": {
        "colab": {
          "base_uri": "https://localhost:8080/"
        },
        "id": "uryvEMdSflPt",
        "outputId": "3d1354d8-458b-4d9d-c0af-83f860d4ff92"
      },
      "outputs": [
        {
          "name": "stdout",
          "output_type": "stream",
          "text": [
            "🌈🌈🌈🌈\n",
            "🌻🌻🌻🌻🌻\n",
            "🌹🌹🌹🌹🌹\n"
          ]
        }
      ],
      "source": [
        "# MULTI INHERITANCE\n",
        "class Grand_Parents :\n",
        "    def Former(self):\n",
        "        print(\"🌹🌹🌹🌹🌹\")\n",
        "\n",
        "class Parents (Grand_Parents) :\n",
        "    def House(self) :\n",
        "        print(\"🌈🌈🌈🌈\")\n",
        "\n",
        "class Child (Parents):\n",
        "    def Jolly(self):\n",
        "        print(\"🌻🌻🌻🌻🌻\")\n",
        "\n",
        "obj = Child()\n",
        "obj.House()\n",
        "obj.Jolly()\n",
        "obj.Former()"
      ]
    },
    {
      "cell_type": "code",
      "execution_count": null,
      "metadata": {
        "colab": {
          "base_uri": "https://localhost:8080/"
        },
        "id": "gr2qzFhijffV",
        "outputId": "90b4c6fb-e90a-4699-d66e-e1fdfe8fe0fc"
      },
      "outputs": [
        {
          "name": "stdout",
          "output_type": "stream",
          "text": [
            "My parents are doing business\n",
            "iam studying BCA\n",
            "My parents are doing business\n",
            "iam studying PUC\n"
          ]
        }
      ],
      "source": [
        "# HIRARCHY INHERITANCE\n",
        "class Parents :\n",
        "    def Business(self):\n",
        "        print(\"My parents are doing business\")\n",
        "\n",
        "class Child1(Parents) :\n",
        "    def Study(self):\n",
        "        print(\"iam studying BCA\")\n",
        "\n",
        "class Child2(Parents) :\n",
        "    def study(self):\n",
        "        print(\"iam studying PUC\")\n",
        "\n",
        "Ch1 = Child1()\n",
        "Ch1.Business()\n",
        "Ch1.Study()\n",
        "\n",
        "Ch2 = Child2()\n",
        "Ch2.Business()\n",
        "Ch2.study()"
      ]
    },
    {
      "cell_type": "code",
      "execution_count": null,
      "metadata": {
        "colab": {
          "base_uri": "https://localhost:8080/"
        },
        "id": "jggDrtyqlLns",
        "outputId": "9eef0047-c8ef-4868-b29a-8de991fbd87a"
      },
      "outputs": [
        {
          "name": "stdout",
          "output_type": "stream",
          "text": [
            "Hiiiiiiiiiiiiii\n",
            "Hellooooooooooo\n",
            "Byeeeeeeeeeee\n",
            "Good Morningggggggggg\n"
          ]
        }
      ],
      "source": [
        "#HYBRID INHERITANCE\n",
        "class A :\n",
        "    def Hi(self):\n",
        "        print(\"Hiiiiiiiiiiiiii\")\n",
        "\n",
        "class B(A) :\n",
        "    def Hello(self):\n",
        "        print(\"Hellooooooooooo\")\n",
        "\n",
        "class C(A) :\n",
        "    def Bye(self):\n",
        "        print(\"Byeeeeeeeeeee\")\n",
        "\n",
        "class D(B,C):\n",
        "    def Good(self):\n",
        "        print(\"Good Morningggggggggg\")\n",
        "\n",
        "obj = D()\n",
        "obj.Hi()\n",
        "obj.Hello()\n",
        "obj.Bye()\n",
        "obj.Good()\n"
      ]
    },
    {
      "cell_type": "code",
      "execution_count": null,
      "metadata": {
        "colab": {
          "base_uri": "https://localhost:8080/"
        },
        "id": "4MYae1gMPYcg",
        "outputId": "8fde98fb-d5f0-4a13-a260-5aaf98dda417"
      },
      "outputs": [
        {
          "name": "stdout",
          "output_type": "stream",
          "text": [
            "5\n",
            "25\n",
            "-2\n",
            "91\n"
          ]
        }
      ],
      "source": [
        "# compile time / Method overloading polymorphism\n",
        "class BCA_1st_Semester :\n",
        "  def student(self,a,b=0,c=0,d=0):\n",
        "    return a+b+c+d\n",
        "BCA = BCA_1st_Semester()\n",
        "print(BCA.student(5))\n",
        "print(BCA.student(10,7,8))\n",
        "print(BCA.student(-10,4,9,-5))\n",
        "print(BCA.student(99,0,4,-12))"
      ]
    },
    {
      "cell_type": "code",
      "execution_count": null,
      "metadata": {
        "colab": {
          "base_uri": "https://localhost:8080/"
        },
        "id": "if2kkq3fdqu2",
        "outputId": "0830cd04-154d-43b3-e551-8e7ac694621a"
      },
      "outputs": [
        {
          "name": "stdout",
          "output_type": "stream",
          "text": [
            "Animal  makes a sound\n",
            "bow bow bow bow bow\n",
            "meow meow meow meow\n",
            "Buuuusssssssssssss\n"
          ]
        }
      ],
      "source": [
        "class Animal :\n",
        "  def sound(self):\n",
        "    print(\"Animal  makes a sound\")\n",
        "class Dog (Animal):\n",
        "  def sound (self):\n",
        "    print(\"bow bow bow bow bow\")\n",
        "class Cat (Animal):\n",
        "  def sound (self):\n",
        "    print(\"meow meow meow meow\")\n",
        "class Snake (Animal):\n",
        "  def sound(self):\n",
        "    print(\"Buuuusssssssssssss\")\n",
        "\n",
        "  obj1 = Animal()\n",
        "  obj2 = Dog()\n",
        "  obj3 = Cat()\n",
        "  obj4 = Snake()\n",
        "\n",
        "\n",
        "  obj1.sound()\n",
        "  obj2.sound()\n",
        "  obj3.sound()\n",
        "  obj4.sound()\n"
      ]
    },
    {
      "cell_type": "code",
      "execution_count": null,
      "metadata": {
        "colab": {
          "base_uri": "https://localhost:8080/"
        },
        "id": "fR1qwwxejqWT",
        "outputId": "c7524dab-3afe-44f1-914c-0e8d7dad333d"
      },
      "outputs": [
        {
          "name": "stdout",
          "output_type": "stream",
          "text": [
            "Total number of pages : 300\n"
          ]
        }
      ],
      "source": [
        "class Book :\n",
        "  def __init__(self,page):\n",
        "    self.page = page\n",
        "  def __add__(self,other):\n",
        "    return self.page + other.page\n",
        "obj1 = Book(100)\n",
        "obj2 = Book(200)\n",
        "print(\"Total number of pages :\",obj1+obj2)\n"
      ]
    },
    {
      "cell_type": "code",
      "execution_count": null,
      "metadata": {
        "colab": {
          "base_uri": "https://localhost:8080/"
        },
        "id": "SHq8Ce0T3E-7",
        "outputId": "545b851c-6644-47ef-c94b-9e6cebe5ef4c"
      },
      "outputs": [
        {
          "output_type": "stream",
          "name": "stdout",
          "text": [
            "Welcome to Python Quiz Competition\n",
            "Enter your name :Sonali\n",
            "\n",
            " 1) Which of the following is a valid variable name?\n",
            "a. 1var\n",
            "b. var1\n",
            "c. var-1\n",
            "d. var 1\n",
            "Enter your choice (a/b/c/d):d\n",
            "Wrong Answer\n",
            "\n",
            " 2)What is the output of:x=5;x+=3;print(x)\n",
            "a. 8\n",
            "b. 53\n",
            "c. 5\n",
            "d. Error\n",
            "Enter your choice (a/b/c/d):a\n",
            "Correct Answer\n",
            "\n",
            " 3)Which of the following is immutable?\n",
            "a. int\n",
            "b. float\n",
            "c. complex\n",
            "d. double\n",
            "Enter your choice (a/b/c/d):c\n",
            "Wrong Answer\n",
            "\n",
            " 4)Type of 3.14 is in python?\n",
            "a. int\n",
            "b. float\n",
            "c. complex\n",
            "d. double\n",
            "Enter your choice (a/b/c/d):b\n",
            "Correct Answer\n",
            "\n",
            " 5)Which of these is a dictionary?\n",
            "a. [1,2,3]\n",
            "b. (1,2,3)\n",
            "c. {'a':1}\n",
            "d. {1,2,3}\n",
            "Enter your choice (a/b/c/d):c\n",
            "Correct Answer\n",
            "\n",
            " 6)What is output of len ({1,2,3,4})\n",
            "a. 3\n",
            "b. 4\n",
            "c. Error\n",
            "d. 0\n",
            "Enter your choice (a/b/c/d):b\n",
            "Correct Answer\n",
            "\n",
            " 7)output of 5 ** 2?\n",
            "a. 10\n",
            "b. 25\n",
            "c. 7\n",
            "d. 52\n",
            "Enter your choice (a/b/c/d):b\n",
            "Correct Answer\n",
            "\n",
            " 8)Which operator is floor division?\n",
            "a. /\n",
            "b. //\n",
            "c. %\n",
            "d. **\n",
            "Enter your choice (a/b/c/d):b\n",
            "Correct Answer\n",
            "\n",
            " 9)output of:If5>3:\n",
            " print('yes')\n",
            "a. Yes\n",
            "b. No\n",
            "c. Error\n",
            "d. 5>3\n",
            "Enter your choice (a/b/c/d):b\n",
            "Correct Answer\n",
            "\n",
            " 10)Which keyword is used for else-if?\n",
            "a. elseif\n",
            "b. elif\n",
            "c. else if\n",
            "d. elifse\n",
            "Enter your choice (a/b/c/d):b\n",
            "Correct Answer\n",
            "\n",
            " 11)Which loop is used when number of iterations is Known?\n",
            "a. for\n",
            "b. while\n",
            "c. do-while\n",
            "d. None\n",
            "Enter your choice (a/b/c/d):a\n",
            "Correct Answer\n",
            "\n",
            " 12)How to exit a loop immediately?\n",
            "a. stop\n",
            "b. break\n",
            "c. exit\n",
            "d. return\n",
            "Enter your choice (a/b/c/d):b\n",
            "Correct Answer\n",
            "\n",
            " 13)Keyword to define a function?\n",
            "a. function\n",
            "b. def\n",
            "c. fun\n",
            "d. define\n",
            "Enter your choice (a/b/c/d):b\n",
            "Correct Answer\n",
            "\n",
            " 14)Function that returns nothing?\n",
            "a. return None\n",
            "b. void\n",
            "c. pass\n",
            "d. All of the above\n",
            "Enter your choice (a/b/c/d):a\n",
            "Correct Answer\n",
            "\n",
            " 15) Which method is the constructor in python class?\n",
            "a. __init__\n",
            "b. __start__\n",
            "c. __creat__\n",
            "d. constructor\n",
            "Enter your choice (a/b/c/d):a\n",
            "Correct Answer\n",
            "\n",
            " 16) Which of these is inheritance example?\n",
            "a. class A:\n",
            " pass\n",
            "class B(A):\n",
            " pass\n",
            "b. x=5\n",
            "c. def func():pass\n",
            "d. if True:pass\n",
            "Enter your choice (a/b/c/d):a\n",
            "Correct Answer\n",
            "\n",
            " 17) What is the type of True?\n",
            "a. int\n",
            "b. bool\n",
            "c. str\n",
            "d. float\n",
            "Enter your choice (a/b/c/d):b\n",
            "Correct Answer\n",
            "\n",
            " 18) Which collection type allowes duplicates?\n",
            "a. Set\n",
            "b. Dictionary\n",
            "c. List\n",
            "d. Tuple\n",
            "Enter your choice (a/b/c/d):c\n",
            "Correct Answer\n",
            "\n",
            " 19) Which collection type is unordered?\n",
            "a. List\n",
            "b. Tuple\n",
            "c. Set\n",
            "d. String\n",
            "Enter your choice (a/b/c/d):a\n",
            "Wrong Answer\n",
            "\n",
            " 20)Output of 10%3?\n",
            "a. 3\n",
            "b. 1\n",
            "c. 0\n",
            "d. Error\n",
            "Enter your choice (a/b/c/d):b\n",
            "Correct Answer\n",
            "\n",
            " 21) if 5>10:\n",
            " print ('yes')\n",
            "else:\n",
            " print('No')\n",
            "a. Yes\n",
            "b. No\n",
            "c. Error\n",
            "d. 5>10\n",
            "Enter your choice (a/b/c/d):b\n",
            "Correct Answer\n",
            "\n",
            " 22) output of :\n",
            " for i in range(3):\n",
            " print(i)\n",
            "a. 1 2 3\n",
            "b. 0 1 2\n",
            "c. 0 1 2 3\n",
            "d. 1 2\n",
            "Enter your choice (a/b/c/d):b\n",
            "Correct Answer\n",
            "\n",
            " 23) Encapsulation in python is done by?\n",
            "a. Private variables\n",
            "b. Inheritance\n",
            "c. Polymorphism\n",
            "d. Abstraction\n",
            "Enter your choice (a/b/c/d):a\n",
            "Correct Answer\n",
            "\n",
            " 24) Polymorphism means?\n",
            "a. Multiple forms\n",
            "b. Single form\n",
            "c. Inheritance\n",
            "d. Encapsulation\n",
            "Enter your choice (a/b/c/d):a\n",
            "Correct Answer\n",
            "\n",
            " 25) Which operator is used for logical AND?\n",
            "a. and\n",
            "b. &\n",
            "c. &&\n",
            "d. |\n",
            "Enter your choice (a/b/c/d):a\n",
            "Correct Answer\n",
            "\n",
            " 26) Output: x=5;print('Yes'if x>0 else 'No')\n",
            "a. Yes\n",
            "b. No\n",
            "c. Error\n",
            "d. 5\n",
            "Enter your choice (a/b/c/d):a\n",
            "Correct Answer\n",
            "\n",
            " 27) output:\n",
            "i=0\n",
            "while i<3:\n",
            " print(i)\n",
            " i+=1\n",
            "a. 0 1 2\n",
            "b. 1 2 3\n",
            "c. 0 1 2 3\n",
            "d. Error\n",
            "Enter your choice (a/b/c/d):a\n",
            "Correct Answer\n",
            "\n",
            " 28) Which returns a value?\n",
            "a. print()\n",
            "b. return\n",
            "c. pass\n",
            "d. input()\n",
            "Enter your choice (a/b/c/d):b\n",
            "Correct Answer\n",
            "\n",
            " 29) Abstraction means?\n",
            "a. Hiding implementation\n",
            "b. Overloading\n",
            "c. Inheritance\n",
            "d. Polymorphism\n",
            "Enter your choice (a/b/c/d):a\n",
            "Correct Answer\n",
            "\n",
            " 30) Which is mutable string type?\n",
            "a. str\n",
            "b. list\n",
            "c. tuple\n",
            "d. int\n",
            "Enter your choice (a/b/c/d):b\n",
            "Correct Answer\n",
            "\n",
            " 31) Which keyword is used to inherit?\n",
            "a. inherits\n",
            "b. super\n",
            "c. class B(A)\n",
            "d. extends\n",
            "Enter your choice (a/b/c/d):c\n",
            "Correct Answer\n",
            "\n",
            " 32)Output of bool(' ')?\n",
            "a. True\n",
            "b. False\n",
            "c. None\n",
            "d. Error\n",
            "Enter your choice (a/b/c/d):b\n",
            "Correct Answer\n",
            "\n",
            " 33)What does pass do?\n",
            "a. Skip\n",
            "b. Exit\n",
            "c. print\n",
            "d. Return\n",
            "Enter your choice (a/b/c/d):a\n",
            "Correct Answer\n",
            "\n",
            " 34)How to create a tuple with single element?\n",
            "a. (1)\n",
            "b. (1,)\n",
            "c. [1]\n",
            "d. {1}\n",
            "Enter your choice (a/b/c/d):b\n",
            "Correct Answer\n",
            "\n",
            " 35) Output of 2*3**2?\n",
            "a. 36\n",
            "b. 18\n",
            "c. 12\n",
            "d. None\n",
            "Enter your choice (a/b/c/d):b\n",
            "Correct Answer\n",
            "\n",
            " 36) Which of these is not keyword?\n",
            "a. pass\n",
            "b. eval\n",
            "c. assert\n",
            "d. return\n",
            "Enter your choice (a/b/c/d):b\n",
            "Correct Answer\n",
            "\n",
            " 37) which method converts string to lowercase?\n",
            "a. lower()\n",
            "b. up()\n",
            "c. capitalize()\n",
            "d. lowercase()\n",
            "Enter your choice (a/b/c/d):a\n",
            "Correct Answer\n",
            "\n",
            " 38) Which collection stores key-value pairs?\n",
            "a. List\n",
            "b. Tuple\n",
            "c. Dictionary\n",
            "d. Set\n",
            "Enter your choice (a/b/c/d):c\n",
            "Correct Answer\n",
            "\n",
            " 39) Which is mutable sring type?\n",
            "a. str\n",
            "b. list\n",
            "c. tuple\n",
            "d. int\n",
            "Enter your choice (a/b/c/d):b\n",
            "Correct Answer\n",
            "\n",
            " 40) Which keyword is used to inherit?\n",
            "a. inherits\n",
            "b. super\n",
            "c. class B(A)\n",
            "d. extends\n",
            "Enter your choice (a/b/c/d):c\n",
            "Correct Answer\n",
            "\n",
            ".....RESULT.....\n",
            "Player Name : Sonali\n",
            "Your Score : 37/40\n",
            "  Good Job,Keep Practicing!\n"
          ]
        }
      ],
      "source": [
        "def ask_question(question, options, answer):\n",
        "  print(\"\\n\", question)\n",
        "  for key, value in options.items():\n",
        "    print(f\"{key}. {value}\")\n",
        "\n",
        "  user_choice = input(\"Enter your choice (a/b/c/d):\").lower()\n",
        "\n",
        "  match user_choice:\n",
        "    case 'a'|'b'|'c'|'d':\n",
        "      if user_choice == answer:\n",
        "        print(\"Correct Answer\")\n",
        "        return 1\n",
        "      else:\n",
        "        print(\"Wrong Answer\")\n",
        "        return 0\n",
        "    case _:\n",
        "      print(\"Invalid Choice\")\n",
        "      return 0\n",
        "\n",
        "print(\"Welcome to Python Quiz Competition\")\n",
        "player_name = input(\"Enter your name :\")\n",
        "score = 0\n",
        "questions = [\n",
        "    {\"q\":\"1) Which of the following is a valid variable name?\",\n",
        "   \"options\":{\"a\":\"1var\",\"b\":\"var1\",\"c\":\"var-1\",\"d\":\"var 1\"},\"ans\":\n",
        "   \"b\"},\n",
        "\n",
        "    {\"q\":\"2)What is the output of:x=5;x+=3;print(x)\",\"options\":\n",
        "     {\"a\":\"8\",\"b\":\"53\",\"c\":\"5\",\"d\":\"Error\"},\"ans\":\"a\"},\n",
        "\n",
        "    {\"q\":\"3)Which of the following is immutable?\",\"options\":{\"a\":\"int\",\"b\":\n",
        "    \"float\",\"c\":\"complex\",\"d\":\"double\"},\"ans\":\"b\"},\n",
        "\n",
        "    {\"q\":\"4)Type of 3.14 is in python?\",\"options\":{\"a\":\"int\",\"b\":\n",
        "    \"float\",\"c\":\"complex\",\"d\":\"double\"},\"ans\":\"b\"},\n",
        "\n",
        "    {\"q\":\"5)Which of these is a dictionary?\",\"options\":{\"a\":\n",
        "   \"[1,2,3]\",\"b\":\"(1,2,3)\",\"c\":\"{'a':1}\",\"d\":\"{1,2,3}\"},\"ans\":\"c\"},\n",
        "\n",
        "     {\"q\":\"6)What is output of len ({1,2,3,4})\",\"options\":{\"a\":\"3\",\n",
        "   \"b\":\"4\",\"c\":\"Error\",\"d\":\"0\"},\"ans\":\"b\"},\n",
        "\n",
        "     {\"q\":\"7)output of 5 ** 2?\",\"options\":{\"a\":\"10\",\"b\":\"25\",\"c\":\"7\",\"d\":\"52\"},\n",
        "       \"ans\":\"b\"},\n",
        "\n",
        "     {\"q\":\"8)Which operator is floor division?\",\"options\":{\"a\":\"/\",\"b\":\n",
        "    \"//\",\"c\":\"%\",\"d\":\"**\"},\"ans\":\"b\"},\n",
        "\n",
        "     {\"q\":\"9)output of:If5>3:\\n print('yes')\",\"options\":{\"a\":\n",
        "    \"Yes\",\"b\":\"No\",\"c\":\"Error\",\"d\":\"5>3\"},\"ans\":\"b\"},\n",
        "\n",
        "     {\"q\":\"10)Which keyword is used for else-if?\",\"options\":{\"a\":\n",
        "     \"elseif\",\"b\":\"elif\",\"c\":\"else if\",\"d\":\"elifse\"},\"ans\":\"b\"},\n",
        "\n",
        "    {\"q\":\"11)Which loop is used when number of iterations is Known?\",\"options\":\n",
        "     {\"a\":\"for\",\"b\":\"while\",\"c\":\"do-while\",\"d\":\"None\"},\"ans\":\"a\"},\n",
        "\n",
        "    {\"q\":\"12)How to exit a loop immediately?\",\"options\":{\"a\":\"stop\",\"b\":\"break\",\n",
        "      \"c\":\"exit\",\"d\":\"return\"},\"ans\":\"b\"},\n",
        "\n",
        "    {\"q\":\"13)Keyword to define a function?\",\"options\":{\"a\":\"function\",\"b\":\"def\",\n",
        "     \"c\":\"fun\",\"d\":\"define\"},\"ans\":\"b\"},\n",
        "\n",
        "    {\"q\":\"14)Function that returns nothing?\",\"options\":{\"a\":\"return None\",\"b\":\"void\",\n",
        "      \"c\":\"pass\",\"d\":\"All of the above\"},\"ans\":\"a\"},\n",
        "\n",
        "    {\"q\":\"15) Which method is the constructor in python class?\",\"options\":\n",
        "      {\"a\":\"__init__\",\"b\":\"__start__\",\"c\":\"__creat__\",\"d\":\"constructor\"},\"ans\":\"a\"},\n",
        "\n",
        "    {\"q\":\"16) Which of these is inheritance example?\",\"options\":\n",
        "     {\"a\":\"class A:\\n pass\\nclass B(A):\\n pass\",\"b\":\"x=5\",\"c\":\"def func():pass\",\n",
        "     \"d\":\"if True:pass\"},\"ans\":\"a\"},\n",
        "\n",
        "    {\"q\":\"17) What is the type of True?\",\"options\":{\"a\":\"int\",\"b\":\"bool\",\"c\":\"str\",\n",
        "      \"d\":\"float\"},\"ans\":\"b\"},\n",
        "\n",
        "    {\"q\":\"18) Which collection type allowes duplicates?\",\"options\":{\"a\":\"Set\",\"b\":\"Dictionary\",\n",
        "      \"c\":\"List\",\"d\":\"Tuple\"},\"ans\":\"c\"},\n",
        "\n",
        "    {\"q\":\"19) Which collection type is unordered?\",\"options\":{\"a\":\"List\",\"b\":\"Tuple\",\n",
        "      \"c\":\"Set\",\"d\":\"String\"},\"ans\":\"c\"},\n",
        "\n",
        "    {\"q\":\"20)Output of 10%3?\",\"options\":{\"a\":\"3\",\"b\":\"1\",\"c\":\"0\",\"d\":\"Error\"},\"ans\":\"b\"},\n",
        "\n",
        "    {\"q\":\"21) if 5>10:\\n print ('yes')\\nelse:\\n print('No')\",\"options\":{\"a\":\"Yes\",\"b\":\"No\",\n",
        "      \"c\":\"Error\",\"d\":\"5>10\"},\"ans\":\"b\"},\n",
        "\n",
        "    {\"q\":\"22) output of :\\n for i in range(3):\\n print(i)\",\"options\":{\"a\":\"1 2 3\",\n",
        "      \"b\":\"0 1 2\",\"c\":\"0 1 2 3\",\"d\":\"1 2\"},\"ans\":\"b\"},\n",
        "\n",
        "    {\"q\":\"23) Encapsulation in python is done by?\",\"options\":{\"a\":\"Private variables\",\n",
        "      \"b\":\"Inheritance\",\"c\":\"Polymorphism\",\"d\":\"Abstraction\"},\"ans\":\"a\"},\n",
        "\n",
        "    {\"q\":\"24) Polymorphism means?\",\"options\":{\"a\":\"Multiple forms\",\"b\":\"Single form\",\n",
        "       \"c\":\"Inheritance\",\"d\":\"Encapsulation\"},\"ans\":\"a\"},\n",
        "\n",
        "    {\"q\":\"25) Which operator is used for logical AND?\",\"options\":{\"a\":\"and\",\"b\":\"&\",\n",
        "      \"c\":\"&&\",\"d\":\"|\"},\"ans\":\"a\"},\n",
        "\n",
        "    {\"q\":\"26) Output: x=5;print('Yes'if x>0 else 'No')\",\"options\":{\"a\":\"Yes\",\"b\":\"No\",\n",
        "      \"c\":\"Error\",\"d\":\"5\"},\"ans\":\"a\"},\n",
        "\n",
        "    {\"q\":\"27) output:\\ni=0\\nwhile i<3:\\n print(i)\\n i+=1\",\"options\":{\"a\":\"0 1 2\",\"b\":\"1 2 3\",\n",
        "      \"c\":\"0 1 2 3\",\"d\":\"Error\"},\"ans\":\"a\"},\n",
        "\n",
        "    {\"q\":\"28) Which returns a value?\",\"options\":{\"a\":\"print()\",\"b\":\"return\",\"c\":\"pass\",\n",
        "      \"d\":\"input()\"},\"ans\":\"b\"},\n",
        "\n",
        "    {\"q\":\"29) Abstraction means?\",\"options\":{\"a\":\"Hiding implementation\",\"b\":\"Overloading\",\n",
        "     \"c\":\"Inheritance\",\"d\":\"Polymorphism\"},\"ans\":\"a\"},\n",
        "\n",
        "    {\"q\":\"30) Which is mutable string type?\",\"options\":{\"a\":\"str\",\"b\":\"list\",\"c\":\"tuple\",\n",
        "      \"d\":\"int\"},\"ans\":\"b\"},\n",
        "\n",
        "    {\"q\":\"31) Which keyword is used to inherit?\",\"options\":{\"a\":\"inherits\",\"b\":\"super\",\n",
        "      \"c\":\"class B(A)\",\"d\":\"extends\"},\"ans\":\"c\"},\n",
        "\n",
        "    {\"q\":\"32)Output of bool(' ')?\",\"options\":{\"a\":\"True\",\"b\":\"False\",\"c\":\"None\",\"d\":\"Error\"},\n",
        "     \"ans\":\"b\"},\n",
        "\n",
        "    {\"q\":\"33)What does pass do?\",\"options\":{\"a\":\"Skip\",\"b\":\"Exit\",\"c\":\"print\",\"d\":\"Return\"\n",
        "     },\"ans\":\"a\"},\n",
        "\n",
        "    {\"q\":\"34)How to create a tuple with single element?\",\"options\":{\"a\":\"(1)\",\"b\":\"(1,)\",\n",
        "      \"c\":\"[1]\",\"d\":\"{1}\"},\"ans\":\"b\"},\n",
        "\n",
        "    {\"q\":\"35) Output of 2*3**2?\",\"options\":{\"a\":\"36\",\"b\":\"18\",\"c\":\"12\",\"d\":\"None\"},\n",
        "      \"ans\":\"b\"},\n",
        "\n",
        "    {\"q\":\"36) Which of these is not keyword?\",\"options\":{\"a\":\"pass\",\"b\":\"eval\",\"c\":\"assert\",\n",
        "      \"d\":\"return\"},\"ans\":\"b\"},\n",
        "\n",
        "    {\"q\":\"37) which method converts string to lowercase?\",\"options\":{\"a\":\"lower()\",\n",
        "       \"b\":\"up()\",\"c\":\"capitalize()\",\"d\":\"lowercase()\"},\"ans\":\"a\"},\n",
        "\n",
        "    {\"q\":\"38) Which collection stores key-value pairs?\",\"options\":{\"a\":\"List\",\n",
        "        \"b\":\"Tuple\",\"c\":\"Dictionary\",\"d\":\"Set\"},\"ans\":\"c\"},\n",
        "\n",
        "    {\"q\":\"39) Which is mutable sring type?\",\"options\":{\"a\":\"str\",\"b\":\"list\",\n",
        "      \"c\":\"tuple\",\"d\":\"int\"},\"ans\":\"b\"},\n",
        "\n",
        "    {\"q\":\"40) Which keyword is used to inherit?\",\"options\":{\"a\":\"inherits\",\"b\":\"super\",\n",
        "      \"c\":\"class B(A)\",\"d\":\"extends\"},\"ans\":\"c\"},\n",
        "]\n",
        "\n",
        "for q in questions:\n",
        "  score += ask_question(q[\"q\"], q[\"options\"], q[\"ans\"])\n",
        "print(\"\\n.....RESULT.....\")\n",
        "print(f\"Player Name : {player_name}\")\n",
        "print(f\"Your Score : {score}/{len(questions)}\")\n",
        "\n",
        "if score==len(questions):\n",
        "  print(\"  Excellent! Full Marks\")\n",
        "elif score>=25:\n",
        "  print(\"  Good Job,Keep Practicing!\")\n",
        "else:\n",
        "  print(\"  Needs Improvement!\")"
      ]
    },
    {
      "cell_type": "code",
      "source": [
        "!pip install numpy"
      ],
      "metadata": {
        "colab": {
          "base_uri": "https://localhost:8080/"
        },
        "id": "JytHmGFplPtZ",
        "outputId": "0aec9a78-7ee2-49f6-ad36-416c68948b58"
      },
      "execution_count": null,
      "outputs": [
        {
          "output_type": "stream",
          "name": "stdout",
          "text": [
            "Requirement already satisfied: numpy in /usr/local/lib/python3.12/dist-packages (2.0.2)\n"
          ]
        }
      ]
    },
    {
      "cell_type": "code",
      "source": [
        "import numpy as Sneha\n",
        "arr = Sneha.array([1,2,3,4,5])\n",
        "print(\"NumPy Array:\",arr)"
      ],
      "metadata": {
        "colab": {
          "base_uri": "https://localhost:8080/"
        },
        "id": "yfkpIXndl9PB",
        "outputId": "9a1671f8-466b-4d27-91c7-9969feecc146"
      },
      "execution_count": null,
      "outputs": [
        {
          "output_type": "stream",
          "name": "stdout",
          "text": [
            "NumPy Array: [1 2 3 4 5]\n"
          ]
        }
      ]
    },
    {
      "cell_type": "code",
      "source": [
        "import numpy as np\n",
        "zeros = np.zeros(5)\n",
        "ones = np.ones(5)\n",
        "print(\"Zeros:\",zeros)\n",
        "print(\"Ones:\",ones)"
      ],
      "metadata": {
        "colab": {
          "base_uri": "https://localhost:8080/"
        },
        "id": "uTaF3U1ImWnY",
        "outputId": "dd58fcb7-cd06-44d8-9944-217c891ca21f"
      },
      "execution_count": null,
      "outputs": [
        {
          "output_type": "stream",
          "name": "stdout",
          "text": [
            "Zeros: [0. 0. 0. 0. 0.]\n",
            "Ones: [1. 1. 1. 1. 1.]\n"
          ]
        }
      ]
    },
    {
      "cell_type": "code",
      "source": [
        "import numpy as np\n",
        "a = np.array([10,20,30])\n",
        "b = np.array([1,2,3])\n",
        "print(\"Addition:\",a+b)\n",
        "print(\"Multiplication:\",a*b)"
      ],
      "metadata": {
        "colab": {
          "base_uri": "https://localhost:8080/"
        },
        "id": "8TAJgNnom0-I",
        "outputId": "ab042894-cccf-4ba4-8cd0-ce99ff8e72a0"
      },
      "execution_count": null,
      "outputs": [
        {
          "output_type": "stream",
          "name": "stdout",
          "text": [
            "Addition: [11 22 33]\n",
            "Multiplication: [10 40 90]\n"
          ]
        }
      ]
    },
    {
      "cell_type": "code",
      "source": [
        "import numpy as np\n",
        "arr = np.array([1,4,9,16])\n",
        "print(\"square Root:\",np.sqrt(arr))\n",
        "print(\"Mean:\",np.mean(arr))"
      ],
      "metadata": {
        "colab": {
          "base_uri": "https://localhost:8080/"
        },
        "id": "XUsAW8BAnWtZ",
        "outputId": "1dd1c1f8-e68b-4deb-aca5-877d7476923f"
      },
      "execution_count": null,
      "outputs": [
        {
          "output_type": "stream",
          "name": "stdout",
          "text": [
            "square Root: [1. 2. 3. 4.]\n",
            "Mean: 7.5\n"
          ]
        }
      ]
    },
    {
      "cell_type": "code",
      "source": [
        "import numpy as np\n",
        "from scipy import stats\n",
        "from numpy import median # Import median from numpy\n",
        "data = np.array([2,4,6,8,10,12,16])\n",
        "mean = np.mean(data)\n",
        "print(\"Mean value is :\",mean)\n",
        "median_value = median(data)\n",
        "print(\"median value is :\",median_value)\n",
        "range_value = np.max(data) - np.min(data)\n",
        "print(\"Range value is :\",range_value)\n",
        "mode = stats.mode(data)\n",
        "print(\"Mode value is :\",mode)"
      ],
      "metadata": {
        "colab": {
          "base_uri": "https://localhost:8080/"
        },
        "id": "vaswO02WoAxp",
        "outputId": "e89dd65b-c941-432d-be66-fffb435f7dc4"
      },
      "execution_count": null,
      "outputs": [
        {
          "output_type": "stream",
          "name": "stdout",
          "text": [
            "Mean value is : 8.285714285714286\n",
            "median value is : 8.0\n",
            "Range value is : 14\n",
            "Mode value is : ModeResult(mode=np.int64(2), count=np.int64(1))\n"
          ]
        }
      ]
    },
    {
      "cell_type": "code",
      "source": [
        "import numpy as np\n",
        "matrix = np.array([[1,2], [3,4]])\n",
        "print(\"Matrix:\\n\",matrix)\n",
        "print(\"Transpose:\\n\", matrix.T)\n"
      ],
      "metadata": {
        "colab": {
          "base_uri": "https://localhost:8080/"
        },
        "id": "azsPdPugodPX",
        "outputId": "01518f91-d585-481a-c211-5f9b6022481d"
      },
      "execution_count": null,
      "outputs": [
        {
          "output_type": "stream",
          "name": "stdout",
          "text": [
            "Matrix:\n",
            " [[1 2]\n",
            " [3 4]]\n",
            "Transpose:\n",
            " [[1 3]\n",
            " [2 4]]\n"
          ]
        }
      ]
    }
  ],
  "metadata": {
    "colab": {
      "provenance": []
    },
    "kernelspec": {
      "display_name": "Python 3",
      "name": "python3"
    },
    "language_info": {
      "name": "python"
    }
  },
  "nbformat": 4,
  "nbformat_minor": 0
}